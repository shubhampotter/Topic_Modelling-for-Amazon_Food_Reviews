{
 "cells": [
  {
   "cell_type": "code",
   "execution_count": 12,
   "id": "0fc38da4",
   "metadata": {},
   "outputs": [
    {
     "name": "stdout",
     "output_type": "stream",
     "text": [
      "Collecting pyldavis\n",
      "  Downloading pyLDAvis-3.3.1.tar.gz (1.7 MB)\n",
      "  Installing build dependencies: started\n",
      "  Installing build dependencies: finished with status 'done'\n",
      "  Getting requirements to build wheel: started\n",
      "  Getting requirements to build wheel: finished with status 'done'\n",
      "  Installing backend dependencies: started\n",
      "  Installing backend dependencies: finished with status 'done'\n",
      "    Preparing wheel metadata: started\n",
      "    Preparing wheel metadata: finished with status 'done'\n",
      "Requirement already satisfied: numpy>=1.20.0 in c:\\users\\admin\\anaconda3\\lib\\site-packages (from pyldavis) (1.21.5)\n",
      "Requirement already satisfied: setuptools in c:\\users\\admin\\anaconda3\\lib\\site-packages (from pyldavis) (61.2.0)\n",
      "Requirement already satisfied: scipy in c:\\users\\admin\\anaconda3\\lib\\site-packages (from pyldavis) (1.7.3)\n",
      "Requirement already satisfied: jinja2 in c:\\users\\admin\\anaconda3\\lib\\site-packages (from pyldavis) (2.11.3)\n",
      "Requirement already satisfied: numexpr in c:\\users\\admin\\anaconda3\\lib\\site-packages (from pyldavis) (2.8.1)\n",
      "Requirement already satisfied: future in c:\\users\\admin\\anaconda3\\lib\\site-packages (from pyldavis) (0.18.2)\n",
      "Requirement already satisfied: joblib in c:\\users\\admin\\anaconda3\\lib\\site-packages (from pyldavis) (1.1.0)\n",
      "Requirement already satisfied: pandas>=1.2.0 in c:\\users\\admin\\anaconda3\\lib\\site-packages (from pyldavis) (1.4.2)\n",
      "Requirement already satisfied: scikit-learn in c:\\users\\admin\\anaconda3\\lib\\site-packages (from pyldavis) (1.1.1)\n",
      "Requirement already satisfied: gensim in c:\\users\\admin\\anaconda3\\lib\\site-packages (from pyldavis) (4.1.2)\n",
      "Collecting funcy\n",
      "  Downloading funcy-1.17-py2.py3-none-any.whl (33 kB)\n",
      "Collecting sklearn\n",
      "  Downloading sklearn-0.0.post1.tar.gz (3.6 kB)\n",
      "Requirement already satisfied: python-dateutil>=2.8.1 in c:\\users\\admin\\anaconda3\\lib\\site-packages (from pandas>=1.2.0->pyldavis) (2.8.2)\n",
      "Requirement already satisfied: pytz>=2020.1 in c:\\users\\admin\\anaconda3\\lib\\site-packages (from pandas>=1.2.0->pyldavis) (2021.3)\n",
      "Requirement already satisfied: six>=1.5 in c:\\users\\admin\\anaconda3\\lib\\site-packages (from python-dateutil>=2.8.1->pandas>=1.2.0->pyldavis) (1.16.0)\n",
      "Requirement already satisfied: smart-open>=1.8.1 in c:\\users\\admin\\anaconda3\\lib\\site-packages (from gensim->pyldavis) (5.2.1)\n",
      "Requirement already satisfied: MarkupSafe>=0.23 in c:\\users\\admin\\anaconda3\\lib\\site-packages (from jinja2->pyldavis) (2.0.1)\n",
      "Requirement already satisfied: packaging in c:\\users\\admin\\anaconda3\\lib\\site-packages (from numexpr->pyldavis) (21.3)\n",
      "Requirement already satisfied: pyparsing!=3.0.5,>=2.0.2 in c:\\users\\admin\\anaconda3\\lib\\site-packages (from packaging->numexpr->pyldavis) (3.0.4)\n",
      "Requirement already satisfied: threadpoolctl>=2.0.0 in c:\\users\\admin\\anaconda3\\lib\\site-packages (from scikit-learn->pyldavis) (2.2.0)\n",
      "Building wheels for collected packages: pyldavis, sklearn\n",
      "  Building wheel for pyldavis (PEP 517): started\n",
      "  Building wheel for pyldavis (PEP 517): finished with status 'done'\n",
      "  Created wheel for pyldavis: filename=pyLDAvis-3.3.1-py2.py3-none-any.whl size=136904 sha256=c873af0245a73572d59384e14c8fca61d129a8e61786f687e255ff86cacdd1e4\n",
      "  Stored in directory: c:\\users\\admin\\appdata\\local\\pip\\cache\\wheels\\57\\a4\\86\\d10c6c2e0bf149fbc0afb0aa5a6528ac35b30a133a0270c477\n",
      "  Building wheel for sklearn (setup.py): started\n",
      "  Building wheel for sklearn (setup.py): finished with status 'done'\n",
      "  Created wheel for sklearn: filename=sklearn-0.0.post1-py3-none-any.whl size=2959 sha256=b44f31891c09c61f1955a61b5f8b6d92d67a3097c4ffcd8e2be49608c3835903\n",
      "  Stored in directory: c:\\users\\admin\\appdata\\local\\pip\\cache\\wheels\\f8\\e0\\3d\\9d0c2020c44a519b9f02ab4fa6d2a4a996c98d79ab2f569fa1\n",
      "Successfully built pyldavis sklearn\n",
      "Installing collected packages: sklearn, funcy, pyldavis\n",
      "Successfully installed funcy-1.17 pyldavis-3.3.1 sklearn-0.0.post1\n"
     ]
    }
   ],
   "source": [
    "!pip install pyldavis"
   ]
  },
  {
   "cell_type": "code",
   "execution_count": 80,
   "id": "45f06556",
   "metadata": {},
   "outputs": [
    {
     "name": "stderr",
     "output_type": "stream",
     "text": [
      "[nltk_data] Downloading package stopwords to\n",
      "[nltk_data]     C:\\Users\\ADMIN\\AppData\\Roaming\\nltk_data...\n",
      "[nltk_data]   Package stopwords is already up-to-date!\n"
     ]
    }
   ],
   "source": [
    "import os\n",
    "import numpy as np\n",
    "import pandas as pd\n",
    "import matplotlib.pyplot as plt\n",
    "import seaborn as sns\n",
    "\n",
    "# Gensim\n",
    "import gensim\n",
    "import gensim.corpora as corpora\n",
    "from gensim.utils import simple_preprocess\n",
    "from gensim.models import CoherenceModel\n",
    "\n",
    "# #spacy\n",
    "import spacy\n",
    "import nltk\n",
    "from nltk import FreqDist\n",
    "nltk.download('stopwords')\n",
    "\n",
    "#vis\n",
    "import pyLDAvis\n",
    "import pyLDAvis.gensim_models as gensimvis\n",
    "\n",
    "\n",
    "#warnings\n",
    "import warnings\n",
    "warnings.filterwarnings('ignore')"
   ]
  },
  {
   "cell_type": "code",
   "execution_count": 140,
   "id": "7220bdf1",
   "metadata": {},
   "outputs": [],
   "source": [
    "# importing the dataset\n",
    "data=pd.read_csv(r\"E:\\datasets\\NLP datasets\\Reviews.csv\")"
   ]
  },
  {
   "cell_type": "code",
   "execution_count": 141,
   "id": "13be6a26",
   "metadata": {},
   "outputs": [
    {
     "data": {
      "text/html": [
       "<div>\n",
       "<style scoped>\n",
       "    .dataframe tbody tr th:only-of-type {\n",
       "        vertical-align: middle;\n",
       "    }\n",
       "\n",
       "    .dataframe tbody tr th {\n",
       "        vertical-align: top;\n",
       "    }\n",
       "\n",
       "    .dataframe thead th {\n",
       "        text-align: right;\n",
       "    }\n",
       "</style>\n",
       "<table border=\"1\" class=\"dataframe\">\n",
       "  <thead>\n",
       "    <tr style=\"text-align: right;\">\n",
       "      <th></th>\n",
       "      <th>Id</th>\n",
       "      <th>ProductId</th>\n",
       "      <th>UserId</th>\n",
       "      <th>ProfileName</th>\n",
       "      <th>HelpfulnessNumerator</th>\n",
       "      <th>HelpfulnessDenominator</th>\n",
       "      <th>Score</th>\n",
       "      <th>Time</th>\n",
       "      <th>Summary</th>\n",
       "      <th>Text</th>\n",
       "    </tr>\n",
       "  </thead>\n",
       "  <tbody>\n",
       "    <tr>\n",
       "      <th>0</th>\n",
       "      <td>1</td>\n",
       "      <td>B001E4KFG0</td>\n",
       "      <td>A3SGXH7AUHU8GW</td>\n",
       "      <td>delmartian</td>\n",
       "      <td>1</td>\n",
       "      <td>1</td>\n",
       "      <td>5</td>\n",
       "      <td>1303862400</td>\n",
       "      <td>Good Quality Dog Food</td>\n",
       "      <td>I have bought several of the Vitality canned d...</td>\n",
       "    </tr>\n",
       "    <tr>\n",
       "      <th>1</th>\n",
       "      <td>2</td>\n",
       "      <td>B00813GRG4</td>\n",
       "      <td>A1D87F6ZCVE5NK</td>\n",
       "      <td>dll pa</td>\n",
       "      <td>0</td>\n",
       "      <td>0</td>\n",
       "      <td>1</td>\n",
       "      <td>1346976000</td>\n",
       "      <td>Not as Advertised</td>\n",
       "      <td>Product arrived labeled as Jumbo Salted Peanut...</td>\n",
       "    </tr>\n",
       "    <tr>\n",
       "      <th>2</th>\n",
       "      <td>3</td>\n",
       "      <td>B000LQOCH0</td>\n",
       "      <td>ABXLMWJIXXAIN</td>\n",
       "      <td>Natalia Corres \"Natalia Corres\"</td>\n",
       "      <td>1</td>\n",
       "      <td>1</td>\n",
       "      <td>4</td>\n",
       "      <td>1219017600</td>\n",
       "      <td>\"Delight\" says it all</td>\n",
       "      <td>This is a confection that has been around a fe...</td>\n",
       "    </tr>\n",
       "    <tr>\n",
       "      <th>3</th>\n",
       "      <td>4</td>\n",
       "      <td>B000UA0QIQ</td>\n",
       "      <td>A395BORC6FGVXV</td>\n",
       "      <td>Karl</td>\n",
       "      <td>3</td>\n",
       "      <td>3</td>\n",
       "      <td>2</td>\n",
       "      <td>1307923200</td>\n",
       "      <td>Cough Medicine</td>\n",
       "      <td>If you are looking for the secret ingredient i...</td>\n",
       "    </tr>\n",
       "    <tr>\n",
       "      <th>4</th>\n",
       "      <td>5</td>\n",
       "      <td>B006K2ZZ7K</td>\n",
       "      <td>A1UQRSCLF8GW1T</td>\n",
       "      <td>Michael D. Bigham \"M. Wassir\"</td>\n",
       "      <td>0</td>\n",
       "      <td>0</td>\n",
       "      <td>5</td>\n",
       "      <td>1350777600</td>\n",
       "      <td>Great taffy</td>\n",
       "      <td>Great taffy at a great price.  There was a wid...</td>\n",
       "    </tr>\n",
       "  </tbody>\n",
       "</table>\n",
       "</div>"
      ],
      "text/plain": [
       "   Id   ProductId          UserId                      ProfileName  \\\n",
       "0   1  B001E4KFG0  A3SGXH7AUHU8GW                       delmartian   \n",
       "1   2  B00813GRG4  A1D87F6ZCVE5NK                           dll pa   \n",
       "2   3  B000LQOCH0   ABXLMWJIXXAIN  Natalia Corres \"Natalia Corres\"   \n",
       "3   4  B000UA0QIQ  A395BORC6FGVXV                             Karl   \n",
       "4   5  B006K2ZZ7K  A1UQRSCLF8GW1T    Michael D. Bigham \"M. Wassir\"   \n",
       "\n",
       "   HelpfulnessNumerator  HelpfulnessDenominator  Score        Time  \\\n",
       "0                     1                       1      5  1303862400   \n",
       "1                     0                       0      1  1346976000   \n",
       "2                     1                       1      4  1219017600   \n",
       "3                     3                       3      2  1307923200   \n",
       "4                     0                       0      5  1350777600   \n",
       "\n",
       "                 Summary                                               Text  \n",
       "0  Good Quality Dog Food  I have bought several of the Vitality canned d...  \n",
       "1      Not as Advertised  Product arrived labeled as Jumbo Salted Peanut...  \n",
       "2  \"Delight\" says it all  This is a confection that has been around a fe...  \n",
       "3         Cough Medicine  If you are looking for the secret ingredient i...  \n",
       "4            Great taffy  Great taffy at a great price.  There was a wid...  "
      ]
     },
     "execution_count": 141,
     "metadata": {},
     "output_type": "execute_result"
    }
   ],
   "source": [
    "data.head()"
   ]
  },
  {
   "cell_type": "code",
   "execution_count": 142,
   "id": "730571e8",
   "metadata": {},
   "outputs": [
    {
     "data": {
      "text/plain": [
       "(568454, 10)"
      ]
     },
     "execution_count": 142,
     "metadata": {},
     "output_type": "execute_result"
    }
   ],
   "source": [
    "data.shape"
   ]
  },
  {
   "cell_type": "code",
   "execution_count": 143,
   "id": "5013125f",
   "metadata": {},
   "outputs": [],
   "source": [
    "df=data.iloc[:10000]"
   ]
  },
  {
   "cell_type": "code",
   "execution_count": 144,
   "id": "1d8c9683",
   "metadata": {},
   "outputs": [
    {
     "data": {
      "text/plain": [
       "(10000, 10)"
      ]
     },
     "execution_count": 144,
     "metadata": {},
     "output_type": "execute_result"
    }
   ],
   "source": [
    "df.shape"
   ]
  },
  {
   "cell_type": "code",
   "execution_count": 145,
   "id": "c7f23b70",
   "metadata": {},
   "outputs": [
    {
     "data": {
      "text/html": [
       "<div>\n",
       "<style scoped>\n",
       "    .dataframe tbody tr th:only-of-type {\n",
       "        vertical-align: middle;\n",
       "    }\n",
       "\n",
       "    .dataframe tbody tr th {\n",
       "        vertical-align: top;\n",
       "    }\n",
       "\n",
       "    .dataframe thead th {\n",
       "        text-align: right;\n",
       "    }\n",
       "</style>\n",
       "<table border=\"1\" class=\"dataframe\">\n",
       "  <thead>\n",
       "    <tr style=\"text-align: right;\">\n",
       "      <th></th>\n",
       "      <th>Id</th>\n",
       "      <th>ProductId</th>\n",
       "      <th>UserId</th>\n",
       "      <th>ProfileName</th>\n",
       "      <th>HelpfulnessNumerator</th>\n",
       "      <th>HelpfulnessDenominator</th>\n",
       "      <th>Score</th>\n",
       "      <th>Time</th>\n",
       "      <th>Summary</th>\n",
       "      <th>Text</th>\n",
       "    </tr>\n",
       "  </thead>\n",
       "  <tbody>\n",
       "    <tr>\n",
       "      <th>0</th>\n",
       "      <td>1</td>\n",
       "      <td>B001E4KFG0</td>\n",
       "      <td>A3SGXH7AUHU8GW</td>\n",
       "      <td>delmartian</td>\n",
       "      <td>1</td>\n",
       "      <td>1</td>\n",
       "      <td>5</td>\n",
       "      <td>1303862400</td>\n",
       "      <td>Good Quality Dog Food</td>\n",
       "      <td>I have bought several of the Vitality canned d...</td>\n",
       "    </tr>\n",
       "    <tr>\n",
       "      <th>1</th>\n",
       "      <td>2</td>\n",
       "      <td>B00813GRG4</td>\n",
       "      <td>A1D87F6ZCVE5NK</td>\n",
       "      <td>dll pa</td>\n",
       "      <td>0</td>\n",
       "      <td>0</td>\n",
       "      <td>1</td>\n",
       "      <td>1346976000</td>\n",
       "      <td>Not as Advertised</td>\n",
       "      <td>Product arrived labeled as Jumbo Salted Peanut...</td>\n",
       "    </tr>\n",
       "    <tr>\n",
       "      <th>2</th>\n",
       "      <td>3</td>\n",
       "      <td>B000LQOCH0</td>\n",
       "      <td>ABXLMWJIXXAIN</td>\n",
       "      <td>Natalia Corres \"Natalia Corres\"</td>\n",
       "      <td>1</td>\n",
       "      <td>1</td>\n",
       "      <td>4</td>\n",
       "      <td>1219017600</td>\n",
       "      <td>\"Delight\" says it all</td>\n",
       "      <td>This is a confection that has been around a fe...</td>\n",
       "    </tr>\n",
       "    <tr>\n",
       "      <th>3</th>\n",
       "      <td>4</td>\n",
       "      <td>B000UA0QIQ</td>\n",
       "      <td>A395BORC6FGVXV</td>\n",
       "      <td>Karl</td>\n",
       "      <td>3</td>\n",
       "      <td>3</td>\n",
       "      <td>2</td>\n",
       "      <td>1307923200</td>\n",
       "      <td>Cough Medicine</td>\n",
       "      <td>If you are looking for the secret ingredient i...</td>\n",
       "    </tr>\n",
       "    <tr>\n",
       "      <th>4</th>\n",
       "      <td>5</td>\n",
       "      <td>B006K2ZZ7K</td>\n",
       "      <td>A1UQRSCLF8GW1T</td>\n",
       "      <td>Michael D. Bigham \"M. Wassir\"</td>\n",
       "      <td>0</td>\n",
       "      <td>0</td>\n",
       "      <td>5</td>\n",
       "      <td>1350777600</td>\n",
       "      <td>Great taffy</td>\n",
       "      <td>Great taffy at a great price.  There was a wid...</td>\n",
       "    </tr>\n",
       "  </tbody>\n",
       "</table>\n",
       "</div>"
      ],
      "text/plain": [
       "   Id   ProductId          UserId                      ProfileName  \\\n",
       "0   1  B001E4KFG0  A3SGXH7AUHU8GW                       delmartian   \n",
       "1   2  B00813GRG4  A1D87F6ZCVE5NK                           dll pa   \n",
       "2   3  B000LQOCH0   ABXLMWJIXXAIN  Natalia Corres \"Natalia Corres\"   \n",
       "3   4  B000UA0QIQ  A395BORC6FGVXV                             Karl   \n",
       "4   5  B006K2ZZ7K  A1UQRSCLF8GW1T    Michael D. Bigham \"M. Wassir\"   \n",
       "\n",
       "   HelpfulnessNumerator  HelpfulnessDenominator  Score        Time  \\\n",
       "0                     1                       1      5  1303862400   \n",
       "1                     0                       0      1  1346976000   \n",
       "2                     1                       1      4  1219017600   \n",
       "3                     3                       3      2  1307923200   \n",
       "4                     0                       0      5  1350777600   \n",
       "\n",
       "                 Summary                                               Text  \n",
       "0  Good Quality Dog Food  I have bought several of the Vitality canned d...  \n",
       "1      Not as Advertised  Product arrived labeled as Jumbo Salted Peanut...  \n",
       "2  \"Delight\" says it all  This is a confection that has been around a fe...  \n",
       "3         Cough Medicine  If you are looking for the secret ingredient i...  \n",
       "4            Great taffy  Great taffy at a great price.  There was a wid...  "
      ]
     },
     "execution_count": 145,
     "metadata": {},
     "output_type": "execute_result"
    }
   ],
   "source": [
    "df.head()"
   ]
  },
  {
   "cell_type": "code",
   "execution_count": 146,
   "id": "b57e4c69",
   "metadata": {},
   "outputs": [],
   "source": [
    "df=df['Text']"
   ]
  },
  {
   "cell_type": "code",
   "execution_count": 147,
   "id": "ca88ce02",
   "metadata": {},
   "outputs": [
    {
     "data": {
      "text/plain": [
       "0    I have bought several of the Vitality canned d...\n",
       "1    Product arrived labeled as Jumbo Salted Peanut...\n",
       "2    This is a confection that has been around a fe...\n",
       "3    If you are looking for the secret ingredient i...\n",
       "4    Great taffy at a great price.  There was a wid...\n",
       "Name: Text, dtype: object"
      ]
     },
     "execution_count": 147,
     "metadata": {},
     "output_type": "execute_result"
    }
   ],
   "source": [
    "df.head()"
   ]
  },
  {
   "cell_type": "code",
   "execution_count": 148,
   "id": "27171c01",
   "metadata": {},
   "outputs": [
    {
     "name": "stdout",
     "output_type": "stream",
     "text": [
      "I have bought several of the Vitality canned dog food products and have found them all to be of good quality. The product looks more like a stew than a processed meat and it smells better. My Labrador is finicky and she appreciates this product better than  most.\n"
     ]
    }
   ],
   "source": [
    "print(df[0])"
   ]
  },
  {
   "cell_type": "code",
   "execution_count": 149,
   "id": "2acd029e",
   "metadata": {},
   "outputs": [],
   "source": [
    "def freq_word(x,terms=30):\n",
    "    all_words=''.join([word for word in x])\n",
    "    all_words=all_words.split()\n",
    "    \n",
    "    fdist=FreqDist(all_words)\n",
    "    words_df=pd.DataFrame({'word':list(fdist.keys()),'count':list(fdist.values())})\n",
    "    \n",
    "    #displaying top 20 frequent words\n",
    "    d=words_df.nlargest(columns='count',n=20)\n",
    "    plt.figure(figsize=(15,5))\n",
    "    ax=sns.barplot(data=d,x='word',y='count')\n",
    "    ax.set(ylabel = 'Count')\n",
    "    plt.show()\n",
    "    "
   ]
  },
  {
   "cell_type": "code",
   "execution_count": 150,
   "id": "99dd7df9",
   "metadata": {},
   "outputs": [
    {
     "data": {
      "image/png": "[encoded data removed]",
      "text/plain": [
       "<Figure size 1080x360 with 1 Axes>"
      ]
     },
     "metadata": {
      "needs_background": "light"
     },
     "output_type": "display_data"
    }
   ],
   "source": [
    "freq_word(df)"
   ]
  },
  {
   "cell_type": "code",
   "execution_count": 151,
   "id": "2d377ee3",
   "metadata": {},
   "outputs": [],
   "source": [
    "# remove unwanted characters, numbers and symbols\n",
    "df = df.str.replace(\"[^a-zA-Z#]\", \" \")"
   ]
  },
  {
   "cell_type": "code",
   "execution_count": 152,
   "id": "470d1238",
   "metadata": {},
   "outputs": [],
   "source": [
    "from nltk.corpus import stopwords\n",
    "stop_words = stopwords.words('english')"
   ]
  },
  {
   "cell_type": "code",
   "execution_count": 153,
   "id": "872671eb",
   "metadata": {},
   "outputs": [
    {
     "name": "stdout",
     "output_type": "stream",
     "text": [
      "['i', 'me', 'my', 'myself', 'we', 'our', 'ours', 'ourselves', 'you', \"you're\", \"you've\", \"you'll\", \"you'd\", 'your', 'yours', 'yourself', 'yourselves', 'he', 'him', 'his', 'himself', 'she', \"she's\", 'her', 'hers', 'herself', 'it', \"it's\", 'its', 'itself', 'they', 'them', 'their', 'theirs', 'themselves', 'what', 'which', 'who', 'whom', 'this', 'that', \"that'll\", 'these', 'those', 'am', 'is', 'are', 'was', 'were', 'be', 'been', 'being', 'have', 'has', 'had', 'having', 'do', 'does', 'did', 'doing', 'a', 'an', 'the', 'and', 'but', 'if', 'or', 'because', 'as', 'until', 'while', 'of', 'at', 'by', 'for', 'with', 'about', 'against', 'between', 'into', 'through', 'during', 'before', 'after', 'above', 'below', 'to', 'from', 'up', 'down', 'in', 'out', 'on', 'off', 'over', 'under', 'again', 'further', 'then', 'once', 'here', 'there', 'when', 'where', 'why', 'how', 'all', 'any', 'both', 'each', 'few', 'more', 'most', 'other', 'some', 'such', 'no', 'nor', 'not', 'only', 'own', 'same', 'so', 'than', 'too', 'very', 's', 't', 'can', 'will', 'just', 'don', \"don't\", 'should', \"should've\", 'now', 'd', 'll', 'm', 'o', 're', 've', 'y', 'ain', 'aren', \"aren't\", 'couldn', \"couldn't\", 'didn', \"didn't\", 'doesn', \"doesn't\", 'hadn', \"hadn't\", 'hasn', \"hasn't\", 'haven', \"haven't\", 'isn', \"isn't\", 'ma', 'mightn', \"mightn't\", 'mustn', \"mustn't\", 'needn', \"needn't\", 'shan', \"shan't\", 'shouldn', \"shouldn't\", 'wasn', \"wasn't\", 'weren', \"weren't\", 'won', \"won't\", 'wouldn', \"wouldn't\"]\n"
     ]
    }
   ],
   "source": [
    "print(stop_words)"
   ]
  },
  {
   "cell_type": "code",
   "execution_count": 154,
   "id": "4d2fd271",
   "metadata": {},
   "outputs": [],
   "source": [
    "# function to remove stopwords\n",
    "def remove_stopwords(rev):\n",
    "    rev_new = \" \".join([i for i in rev if i not in stop_words])\n",
    "    return rev_new"
   ]
  },
  {
   "cell_type": "code",
   "execution_count": 155,
   "id": "e7bbed83",
   "metadata": {},
   "outputs": [],
   "source": [
    "# remove short words (length < 3)\n",
    "df= df.apply(lambda x: ' '.join([w for w in x.split() if len(w)>2]))\n",
    "\n",
    "# remove stopwords from the text\n",
    "reviews = [remove_stopwords(r.split()) for r in df]\n",
    "\n",
    "# make entire text lowercase\n",
    "reviews = [r.lower() for r in reviews]"
   ]
  },
  {
   "cell_type": "code",
   "execution_count": 156,
   "id": "df06ae1b",
   "metadata": {},
   "outputs": [
    {
     "data": {
      "text/plain": [
       "'bought several vitality canned dog food products found good quality the product looks like stew processed meat smells better labrador finicky appreciates product better'"
      ]
     },
     "execution_count": 156,
     "metadata": {},
     "output_type": "execute_result"
    }
   ],
   "source": [
    "reviews[0]"
   ]
  },
  {
   "cell_type": "code",
   "execution_count": 157,
   "id": "5e8501db",
   "metadata": {},
   "outputs": [
    {
     "data": {
      "image/png": "[encoded data removed]",
      "text/plain": [
       "<Figure size 1080x360 with 1 Axes>"
      ]
     },
     "metadata": {
      "needs_background": "light"
     },
     "output_type": "display_data"
    }
   ],
   "source": [
    "\n",
    "freq_word(reviews)"
   ]
  },
  {
   "cell_type": "code",
   "execution_count": 158,
   "id": "37af32b6",
   "metadata": {},
   "outputs": [],
   "source": [
    "import spacy\n",
    "\n",
    "nlp = spacy.load(\"en_core_web_sm\",disable=['parser','ner'])\n"
   ]
  },
  {
   "cell_type": "code",
   "execution_count": 159,
   "id": "3a63e3e3",
   "metadata": {},
   "outputs": [],
   "source": [
    "\n",
    "def lemmatization(texts, tags=['NOUN', 'ADJ','VERB','ADJ']):\n",
    "    output = []\n",
    "    for sent in texts:\n",
    "        doc = nlp(\" \".join(sent)) \n",
    "        output.append([token.lemma_ for token in doc if token.pos_ in tags])\n",
    "    return output\n",
    "     "
   ]
  },
  {
   "cell_type": "code",
   "execution_count": 160,
   "id": "3cb4d8d5",
   "metadata": {},
   "outputs": [
    {
     "name": "stdout",
     "output_type": "stream",
     "text": [
      "product arrived labeled jumbo salted peanuts peanuts actually small sized unsalted not sure error vendor intended represent product jumbo\n",
      "-----------------------------------------------------------------------------\n",
      "['product', 'arrived', 'labeled', 'jumbo', 'salted', 'peanuts', 'peanuts', 'actually', 'small', 'sized', 'unsalted', 'not', 'sure', 'error', 'vendor', 'intended', 'represent', 'product', 'jumbo']\n"
     ]
    }
   ],
   "source": [
    "\n",
    "tokenized_reviews = pd.Series(reviews).apply(lambda x: x.split())\n",
    "print(reviews[1])\n",
    "print('-----------------------------------------------------------------------------')\n",
    "print(tokenized_reviews[1])"
   ]
  },
  {
   "cell_type": "code",
   "execution_count": 161,
   "id": "2ccbafd6",
   "metadata": {},
   "outputs": [
    {
     "name": "stdout",
     "output_type": "stream",
     "text": [
      "['product', 'arrive', 'label', 'jumbo', 'salt', 'peanut', 'peanut', 'small', 'sized', 'unsalted', 'sure', 'error', 'vendor', 'intend', 'represent', 'product', 'jumbo']\n"
     ]
    }
   ],
   "source": [
    "reviews_2 = lemmatization(tokenized_reviews)\n",
    "print(reviews_2[1])"
   ]
  },
  {
   "cell_type": "code",
   "execution_count": 162,
   "id": "d2e421b4",
   "metadata": {},
   "outputs": [
    {
     "name": "stdout",
     "output_type": "stream",
     "text": [
      "['product', 'arrive', 'label', 'jumbo', 'salt', 'peanut', 'peanut', 'small', 'sized', 'unsalted', 'sure', 'error', 'vendor', 'intend', 'represent', 'product', 'jumbo']\n"
     ]
    },
    {
     "data": {
      "text/plain": [
       "17"
      ]
     },
     "execution_count": 162,
     "metadata": {},
     "output_type": "execute_result"
    }
   ],
   "source": [
    "print(reviews_2[1])\n",
    "len(reviews_2[1])"
   ]
  },
  {
   "cell_type": "code",
   "execution_count": 163,
   "id": "dcb3af7f",
   "metadata": {},
   "outputs": [
    {
     "data": {
      "text/plain": [
       "{'actually', 'arrived', 'intended', 'labeled', 'not', 'peanuts', 'salted'}"
      ]
     },
     "execution_count": 163,
     "metadata": {},
     "output_type": "execute_result"
    }
   ],
   "source": [
    "set(tokenized_reviews[1]) - set(reviews_2[1])"
   ]
  },
  {
   "cell_type": "code",
   "execution_count": 164,
   "id": "3f3a93d5",
   "metadata": {},
   "outputs": [],
   "source": [
    "reviews_3 = []\n",
    "for i in range(len(reviews_2)):\n",
    "    reviews_3.append(' '.join(reviews_2[i]))\n",
    "    \n",
    "df['reviews'] = reviews_3"
   ]
  },
  {
   "cell_type": "code",
   "execution_count": 168,
   "id": "cc874a66",
   "metadata": {},
   "outputs": [
    {
     "data": {
      "text/plain": [
       "'product arrive label jumbo salt peanut peanut small sized unsalted sure error vendor intend represent product jumbo'"
      ]
     },
     "execution_count": 168,
     "metadata": {},
     "output_type": "execute_result"
    }
   ],
   "source": [
    "df['reviews'][1]"
   ]
  },
  {
   "cell_type": "code",
   "execution_count": 169,
   "id": "778f813d",
   "metadata": {},
   "outputs": [
    {
     "data": {
      "image/png": "[encoded data removed]",
      "text/plain": [
       "<Figure size 1080x360 with 1 Axes>"
      ]
     },
     "metadata": {
      "needs_background": "light"
     },
     "output_type": "display_data"
    }
   ],
   "source": [
    "freq_word(df['reviews'])"
   ]
  },
  {
   "cell_type": "code",
   "execution_count": 170,
   "id": "726536c9",
   "metadata": {},
   "outputs": [],
   "source": [
    "# Create the term dictionary of our corpus, where every unique term is assigned an index\n",
    "dictionary = corpora.Dictionary(reviews_2)"
   ]
  },
  {
   "cell_type": "code",
   "execution_count": 172,
   "id": "82adf6a6",
   "metadata": {},
   "outputs": [],
   "source": [
    "data=pd.DataFrame(dictionary)"
   ]
  },
  {
   "cell_type": "code",
   "execution_count": 184,
   "id": "82daefc8",
   "metadata": {},
   "outputs": [
    {
     "data": {
      "text/plain": [
       "(11570, 1)"
      ]
     },
     "execution_count": 184,
     "metadata": {},
     "output_type": "execute_result"
    }
   ],
   "source": [
    "data.shape"
   ]
  },
  {
   "cell_type": "code",
   "execution_count": 173,
   "id": "13f666c6",
   "metadata": {},
   "outputs": [
    {
     "data": {
      "text/html": [
       "<div>\n",
       "<style scoped>\n",
       "    .dataframe tbody tr th:only-of-type {\n",
       "        vertical-align: middle;\n",
       "    }\n",
       "\n",
       "    .dataframe tbody tr th {\n",
       "        vertical-align: top;\n",
       "    }\n",
       "\n",
       "    .dataframe thead th {\n",
       "        text-align: right;\n",
       "    }\n",
       "</style>\n",
       "<table border=\"1\" class=\"dataframe\">\n",
       "  <thead>\n",
       "    <tr style=\"text-align: right;\">\n",
       "      <th></th>\n",
       "      <th>0</th>\n",
       "    </tr>\n",
       "  </thead>\n",
       "  <tbody>\n",
       "    <tr>\n",
       "      <th>0</th>\n",
       "      <td>0</td>\n",
       "    </tr>\n",
       "    <tr>\n",
       "      <th>1</th>\n",
       "      <td>1</td>\n",
       "    </tr>\n",
       "    <tr>\n",
       "      <th>2</th>\n",
       "      <td>2</td>\n",
       "    </tr>\n",
       "    <tr>\n",
       "      <th>3</th>\n",
       "      <td>3</td>\n",
       "    </tr>\n",
       "    <tr>\n",
       "      <th>4</th>\n",
       "      <td>4</td>\n",
       "    </tr>\n",
       "  </tbody>\n",
       "</table>\n",
       "</div>"
      ],
      "text/plain": [
       "   0\n",
       "0  0\n",
       "1  1\n",
       "2  2\n",
       "3  3\n",
       "4  4"
      ]
     },
     "execution_count": 173,
     "metadata": {},
     "output_type": "execute_result"
    }
   ],
   "source": [
    "data.head()"
   ]
  },
  {
   "cell_type": "code",
   "execution_count": 174,
   "id": "cf276d25",
   "metadata": {},
   "outputs": [],
   "source": [
    "# Convert list of reviews (reviews_2) into a Document Term Matrix using the dictionary prepared above.\n",
    "doc_term_matrix = [dictionary.doc2bow(rev) for rev in reviews_2]"
   ]
  },
  {
   "cell_type": "code",
   "execution_count": 175,
   "id": "73a40621",
   "metadata": {},
   "outputs": [],
   "source": [
    "# Creating the object for LDA model using gensim library\n",
    "LDA = gensim.models.ldamodel.LdaModel"
   ]
  },
  {
   "cell_type": "code",
   "execution_count": 176,
   "id": "9451afff",
   "metadata": {},
   "outputs": [],
   "source": [
    "# Build LDA model\n",
    "lda_model = LDA(corpus=doc_term_matrix,\n",
    "                id2word=dictionary,\n",
    "                num_topics=7, \n",
    "                random_state=100,\n",
    "                chunksize=1000,\n",
    "                passes=50)"
   ]
  },
  {
   "cell_type": "code",
   "execution_count": 177,
   "id": "2aa0bbad",
   "metadata": {},
   "outputs": [
    {
     "data": {
      "text/plain": [
       "[(0,\n",
       "  '0.028*\"use\" + 0.013*\"make\" + 0.011*\"sauce\" + 0.010*\"get\" + 0.009*\"work\" + 0.007*\"open\" + 0.007*\"soup\" + 0.007*\"bag\" + 0.007*\"put\" + 0.007*\"chicken\"'),\n",
       " (1,\n",
       "  '0.062*\"food\" + 0.034*\"dog\" + 0.024*\"cat\" + 0.017*\"love\" + 0.014*\"eat\" + 0.011*\"get\" + 0.011*\"baby\" + 0.011*\"organic\" + 0.010*\"product\" + 0.010*\"old\"'),\n",
       " (2,\n",
       "  '0.029*\"tea\" + 0.027*\"make\" + 0.023*\"use\" + 0.020*\"taste\" + 0.019*\"mix\" + 0.017*\"product\" + 0.013*\"try\" + 0.012*\"water\" + 0.012*\"milk\" + 0.011*\"good\"'),\n",
       " (3,\n",
       "  '0.083*\"coffee\" + 0.040*\"cup\" + 0.031*\"flavor\" + 0.023*\"taste\" + 0.020*\"good\" + 0.017*\"try\" + 0.012*\"strong\" + 0.012*\"chocolate\" + 0.011*\"roast\" + 0.010*\"hot\"'),\n",
       " (4,\n",
       "  '0.026*\"product\" + 0.023*\"order\" + 0.021*\"amazon\" + 0.019*\"buy\" + 0.018*\"good\" + 0.018*\"price\" + 0.016*\"flavor\" + 0.016*\"chip\" + 0.015*\"store\" + 0.014*\"find\"'),\n",
       " (5,\n",
       "  '0.030*\"taste\" + 0.026*\"flavor\" + 0.024*\"drink\" + 0.018*\"juice\" + 0.016*\"sugar\" + 0.014*\"soda\" + 0.014*\"calorie\" + 0.013*\"sweet\" + 0.012*\"good\" + 0.011*\"natural\"'),\n",
       " (6,\n",
       "  '0.026*\"eat\" + 0.026*\"love\" + 0.019*\"good\" + 0.018*\"great\" + 0.015*\"make\" + 0.013*\"taste\" + 0.011*\"treat\" + 0.011*\"seed\" + 0.011*\"snack\" + 0.011*\"buy\"')]"
      ]
     },
     "execution_count": 177,
     "metadata": {},
     "output_type": "execute_result"
    }
   ],
   "source": [
    "\n",
    "lda_model.print_topics()\n",
    "     "
   ]
  },
  {
   "cell_type": "code",
   "execution_count": 181,
   "id": "55083f7c",
   "metadata": {},
   "outputs": [
    {
     "data": {
      "text/html": [
       "\n",
       "<link rel=\"stylesheet\" type=\"text/css\" href=\"https://cdn.jsdelivr.net/gh/bmabey/pyLDAvis@3.3.1/pyLDAvis/js/ldavis.v1.0.0.css\">\n",
       "\n",
       "\n",
       "<div id=\"ldavis_el38565927626170721825040570\"></div>\n",
       "<script type=\"text/javascript\">\n",
       "\n",
       "var ldavis_el38565927626170721825040570_data = {\"mdsDat\": {\"x\": [-0.003894850162311189, -0.06447375846075902, -0.10487240600336258, -0.201020156432641, 0.057282479776765066, 0.10383839201797952, 0.21314029926432915], \"y\": [-0.16074350639750826, 0.05666362591482828, -0.07320467091459794, 0.03671912979512123, 0.013373387117606187, 0.2300456542790904, -0.10285361979454], \"topics\": [1, 2, 3, 4, 5, 6, 7], \"cluster\": [1, 1, 1, 1, 1, 1, 1], \"Freq\": [18.632003073152344, 18.048067353085358, 16.10214702416264, 13.071439797705835, 12.719591786278132, 11.330098739235801, 10.096652226379883]}, \"tinfo\": {\"Term\": [\"coffee\", \"food\", \"cup\", \"tea\", \"dog\", \"flavor\", \"eat\", \"use\", \"order\", \"drink\", \"cat\", \"amazon\", \"taste\", \"mix\", \"chip\", \"juice\", \"sugar\", \"love\", \"soda\", \"chocolate\", \"calorie\", \"treat\", \"make\", \"price\", \"roast\", \"milk\", \"add\", \"strong\", \"ingredient\", \"bag\", \"chip\", \"bold\", \"salt\", \"ship\", \"vinegar\", \"seller\", \"beef\", \"date\", \"describe\", \"shipment\", \"garlic\", \"truffle\", \"jerky\", \"olive\", \"kettle\", \"stale\", \"preserve\", \"sea\", \"vendor\", \"filler\", \"holiday\", \"gummy\", \"warehouse\", \"walnut\", \"expiration\", \"bpa\", \"salsa\", \"major\", \"drinkable\", \"basket\", \"grocery\", \"salty\", \"arrive\", \"receive\", \"local\", \"amazon\", \"shipping\", \"order\", \"service\", \"item\", \"store\", \"com\", \"price\", \"gift\", \"thank\", \"pack\", \"bag\", \"purchase\", \"product\", \"box\", \"buy\", \"potato\", \"find\", \"package\", \"great\", \"case\", \"good\", \"flavor\", \"get\", \"love\", \"time\", \"taste\", \"try\", \"tea\", \"pancake\", \"ice\", \"orange\", \"lemon\", \"waffle\", \"tablet\", \"powder\", \"bisquick\", \"lid\", \"carbonation\", \"espresso\", \"sip\", \"strength\", \"dissolve\", \"muffin\", \"baking\", \"watery\", \"disposable\", \"mint\", \"cow\", \"pill\", \"aluminum\", \"italian\", \"teaspoon\", \"grapefruit\", \"powdered\", \"fructose\", \"iced\", \"toast\", \"mix\", \"milk\", \"warm\", \"recipe\", \"cold\", \"gluten\", \"extract\", \"flour\", \"water\", \"free\", \"make\", \"bake\", \"use\", \"add\", \"sugar\", \"brown\", \"product\", \"green\", \"taste\", \"cream\", \"try\", \"find\", \"good\", \"drink\", \"work\", \"sweet\", \"great\", \"get\", \"time\", \"buy\", \"thing\", \"come\", \"coffee\", \"cup\", \"roast\", \"dark\", \"french\", \"machine\", \"popcorn\", \"pod\", \"decaf\", \"starbuck\", \"maker\", \"keurig\", \"brewer\", \"mountain\", \"hazelnut\", \"brewing\", \"bitterness\", \"donut\", \"creamer\", \"senseo\", \"bodied\", \"kcup\", \"rodeo\", \"creme\", \"disposakup\", \"yuban\", \"jelly\", \"fuel\", \"jet\", \"grove\", \"weak\", \"brew\", \"puck\", \"cocoa\", \"medium\", \"smooth\", \"bean\", \"strong\", \"grind\", \"vanilla\", \"blend\", \"bitter\", \"hot\", \"rich\", \"chocolate\", \"flavor\", \"filter\", \"favorite\", \"taste\", \"try\", \"good\", \"morning\", \"great\", \"get\", \"buy\", \"brand\", \"use\", \"drink\", \"love\", \"find\", \"make\", \"price\", \"juice\", \"soda\", \"calorie\", \"vitamin\", \"tangerine\", \"carbonate\", \"sodium\", \"carbonated\", \"cherry\", \"grape\", \"fiber\", \"berry\", \"sparkle\", \"pineapple\", \"concentrate\", \"blood\", \"tart\", \"sandwich\", \"smoothie\", \"carb\", \"punch\", \"citrus\", \"calcium\", \"bacon\", \"winter\", \"boost\", \"izze\", \"nutrient\", \"blueberry\", \"flavour\", \"fat\", \"protein\", \"acid\", \"soy\", \"energy\", \"fruit\", \"natural\", \"switch\", \"beverage\", \"gram\", \"low\", \"drink\", \"sugar\", \"contain\", \"sweet\", \"ingredient\", \"lime\", \"taste\", \"alternative\", \"flavor\", \"corn\", \"add\", \"healthy\", \"high\", \"cracker\", \"bit\", \"good\", \"little\", \"try\", \"think\", \"want\", \"water\", \"give\", \"product\", \"cookie\", \"candy\", \"bar\", \"peanut\", \"chew\", \"tooth\", \"cereal\", \"licorice\", \"fondant\", \"peppermint\", \"raspberry\", \"sardine\", \"mini\", \"chewy\", \"popchip\", \"alot\", \"hungry\", \"pressure\", \"flax\", \"salmon\", \"pumpkin\", \"mistake\", \"record\", \"tub\", \"raisin\", \"frost\", \"oat\", \"breath\", \"car\", \"refrigerator\", \"seed\", \"kid\", \"pouch\", \"snack\", \"eat\", \"oatmeal\", \"treat\", \"daughter\", \"butter\", \"soft\", \"love\", \"cake\", \"stick\", \"piece\", \"chocolate\", \"size\", \"old\", \"texture\", \"great\", \"son\", \"keep\", \"good\", \"hard\", \"make\", \"healthy\", \"little\", \"time\", \"buy\", \"taste\", \"try\", \"get\", \"perfect\", \"small\", \"think\", \"day\", \"find\", \"thing\", \"year\", \"sauce\", \"soup\", \"plant\", \"seal\", \"plastic\", \"dish\", \"own\", \"tofu\", \"skin\", \"noodle\", \"goat\", \"lbs\", \"pork\", \"freezer\", \"homemade\", \"wash\", \"unable\", \"reorder\", \"gravy\", \"walk\", \"chili\", \"hole\", \"internet\", \"basis\", \"table\", \"dent\", \"chef\", \"oreo\", \"correct\", \"science\", \"heat\", \"chicken\", \"salad\", \"bowl\", \"open\", \"use\", \"meat\", \"tomato\", \"top\", \"cook\", \"put\", \"bottle\", \"work\", \"house\", \"container\", \"can\", \"stuff\", \"make\", \"spice\", \"take\", \"bag\", \"get\", \"keep\", \"easy\", \"need\", \"little\", \"add\", \"time\", \"day\", \"good\", \"buy\", \"package\", \"go\", \"dog\", \"cat\", \"formula\", \"feed\", \"earth\", \"pet\", \"grass\", \"newman\", \"post\", \"vet\", \"supplement\", \"animal\", \"square\", \"vomit\", \"icicle\", \"pizza\", \"parent\", \"sleep\", \"digestive\", \"puppy\", \"wellness\", \"trust\", \"human\", \"pretzel\", \"kibble\", \"tummy\", \"felidae\", \"shiny\", \"willing\", \"liver\", \"food\", \"baby\", \"allergy\", \"blue\", \"stomach\", \"coat\", \"organic\", \"old\", \"issue\", \"treat\", \"problem\", \"eat\", \"love\", \"ingredient\", \"month\", \"start\", \"year\", \"give\", \"get\", \"quality\", \"fish\", \"happy\", \"product\", \"brand\", \"day\", \"seem\", \"good\", \"try\", \"time\", \"find\", \"buy\", \"look\"], \"Freq\": [3974.0, 1947.0, 1898.0, 1576.0, 1011.0, 3730.0, 1564.0, 2894.0, 1550.0, 1627.0, 706.0, 1341.0, 4324.0, 1124.0, 882.0, 711.0, 1106.0, 2567.0, 548.0, 931.0, 533.0, 705.0, 3056.0, 1466.0, 545.0, 686.0, 1189.0, 666.0, 684.0, 1117.0, 882.0754064217286, 472.9281562220579, 408.16565521843086, 323.6620622802542, 165.32958630251412, 135.1716641796176, 128.52959665114014, 123.425282097665, 119.27660676480184, 110.1482329246408, 93.13094702893244, 91.78844306879762, 87.46706060865351, 86.58077012093749, 83.80164514124533, 81.83902953547766, 66.40811042501782, 60.81105589361571, 57.62580263748515, 53.572451158484434, 45.236286240571, 45.090996579482905, 44.92462673637317, 44.67265192938249, 43.67727238705332, 43.54643521873653, 41.32658202059975, 40.11699646518214, 39.89157436259313, 39.39598196144448, 343.0969510993705, 150.00758200361994, 339.18482038362697, 358.91238589493537, 396.2787687057496, 1185.9638513985708, 319.5852912449833, 1266.6471074397934, 153.67680500428781, 362.6072936114906, 807.7300024549806, 360.11724430100935, 980.8760157052915, 209.38703120537792, 270.5195332543581, 566.2733834787101, 664.5082062267759, 568.5264622446223, 1437.0732254396619, 452.5134277590689, 1059.619004424947, 217.85541110237247, 802.86054171572, 368.8364954656939, 787.4464080188338, 251.3221312555071, 988.6818977219929, 888.1749972623936, 674.9858149714613, 487.61934906151487, 397.1454407170089, 524.1188533507913, 414.432932405231, 1575.2587189727974, 327.73190203866676, 279.18434349116916, 251.3526856912841, 249.34410263264618, 151.79064812772123, 150.9828940802379, 317.398006252332, 141.23168441848532, 137.52207695599046, 134.3102269212515, 116.82525484688178, 105.26876339825523, 89.39920565096956, 84.77983093596355, 77.46254795050349, 76.69470776502783, 69.47428075105509, 64.14338284083605, 61.31139274952029, 59.22810794444675, 56.69429346846427, 56.41544028812952, 54.052427135817375, 53.40217187506591, 53.20719719127285, 50.11582013204078, 50.3169803704864, 49.386121595592485, 46.039380210605735, 1034.0902122519324, 619.5977640333595, 99.18160251046001, 260.97084497888306, 143.30285441313274, 328.0384855074692, 95.01590806721678, 122.60625734694219, 644.3920925815173, 483.9815505462638, 1439.3041909654428, 147.62745416134612, 1256.804986381969, 520.5657775563045, 469.73058273168476, 141.37046088466698, 932.1960799325318, 217.42579046331974, 1049.7937070792127, 170.7056804301321, 724.2956310554658, 509.7428134993306, 598.0107971639624, 380.32270667717495, 296.7021343244332, 262.1102872829249, 365.347375718665, 350.76636996226034, 268.3782576530552, 295.4543213529263, 222.56987149552802, 230.0071398635057, 3973.1921826168623, 1897.5124709461145, 544.6155438914209, 387.978913522381, 217.31991761473222, 185.48018327976177, 172.46445706512728, 171.75488152764856, 159.1316783922714, 158.82960628345162, 146.30668113848432, 137.59617125828092, 131.04737152973962, 110.63950657177753, 107.33583200385496, 98.11266623497107, 86.3763209775152, 71.4515427603592, 68.52096589679977, 63.33242204973819, 62.37571536470379, 57.90580442199663, 50.116959702147696, 48.78623507535208, 46.57131847049142, 45.6167422744635, 42.868255294602164, 42.52842277788084, 41.18856270346056, 40.70079226490292, 220.1527764210074, 368.35345113186264, 86.85407477142456, 291.45196690861763, 268.4388039099367, 323.93400463866834, 420.4574264643372, 562.3501805570962, 124.30185293146877, 340.3264332302591, 305.461794909827, 271.4350076429708, 479.16071976990986, 199.7440971923779, 553.0277406931458, 1465.3175893622474, 147.1203829318558, 403.86232255731284, 1086.675214856195, 810.0113848541081, 963.0205620982035, 220.6111550347897, 475.7267730495961, 449.2705613461549, 420.0535928308779, 300.99129278430655, 414.2248426145644, 309.1192533511456, 334.98359066892175, 311.3890384137177, 318.16486349696555, 264.4240033439496, 711.0098859214772, 547.7396860237513, 532.2863808017935, 187.07351789961115, 141.20390006163387, 127.00073794483491, 124.21718605128275, 111.51618412546495, 110.37275348640308, 99.73108031023312, 95.84067973460105, 93.33192715552619, 81.0261914639104, 80.38511983262124, 78.07033312000934, 76.63197403519027, 74.50307165522787, 65.20087309327761, 64.53390433402598, 63.17140753524523, 55.09157605047319, 52.72750782774389, 52.227847192045616, 48.544718716981706, 47.93174909150777, 46.23595353936807, 45.11160618603381, 44.51647931952842, 43.57575709135183, 43.337766107352664, 269.0837458964563, 288.3842415210963, 113.36283950292588, 183.94959987214943, 176.14797235923717, 420.8827314687473, 424.70051142680626, 354.21972101861235, 174.9877448067591, 92.62795991205965, 297.1762983544754, 937.5996864999847, 635.9342930570721, 248.56624824649745, 504.6012281973714, 386.46834598737496, 108.8391364343934, 1160.5243371864944, 174.4312282037614, 1011.068933035529, 183.11882725106526, 407.9360509150002, 264.03413192160906, 238.29046707966577, 154.23760764225065, 241.78944071559096, 448.55810473813455, 291.2237619978429, 339.7323243400155, 242.1904115618966, 234.6104851961987, 213.48962068447366, 194.41357890876154, 196.27750205651074, 382.49966982912576, 234.03539092840586, 193.2803242889567, 190.31115960067785, 173.49368801331053, 135.07234837570383, 98.8659783160618, 97.1794872044377, 67.74218897696642, 62.96226434432422, 62.812830709493056, 57.14431365340365, 56.121367972849484, 55.9420070795081, 54.9119331339356, 49.76850663578191, 48.206777784389075, 47.12884137209274, 46.708000588649476, 45.72815491840083, 44.03228868442878, 44.02244216260185, 43.996070225395584, 38.81165840618779, 38.67623018204469, 34.47193277484457, 34.108074055521904, 33.727797858083775, 33.53865872975587, 32.83134583958545, 421.9312582005729, 256.8560423627078, 68.82428427812388, 410.83090187165425, 973.591159584176, 79.44373824325635, 425.61257973908874, 165.24453195726224, 174.86862371976378, 168.1448987552282, 967.6602316199982, 175.26229074632627, 159.9787442522982, 154.18946522314482, 367.4929537805192, 236.8759825101983, 258.65234752491716, 172.30278313896224, 675.343846320729, 119.02265877709105, 249.5888598829674, 735.2861229450984, 134.64470534183516, 552.6628280059105, 228.6160062941469, 334.0250710566468, 350.82825086915665, 403.6753221171576, 503.20451103849115, 378.83829685921506, 326.37204590057416, 204.43176798570767, 217.7761091913616, 246.01161630044237, 209.68916742330774, 241.19280341358706, 205.94831738236442, 204.22394689952424, 363.61553231860614, 241.43423724284793, 171.35284099424743, 167.24591673117322, 156.13815524190267, 120.52089412766725, 109.4030235568416, 104.43697648623551, 84.08105359388168, 70.82820464848236, 61.62877953570676, 58.05518388698838, 54.41185676693759, 53.10072929577426, 51.55774046377279, 49.88531928400354, 49.27246798772527, 48.47821832739334, 47.91688174911724, 47.36929995766201, 46.765097891099344, 46.73107000050767, 45.79781262012754, 42.90701950166234, 42.71121098719321, 42.098084987611806, 41.689711057182784, 41.51093807184044, 41.55606790021135, 40.6842851947382, 125.74053159038884, 223.63923981823115, 115.79135875238794, 81.11268033828043, 247.5671062151517, 949.1762641257181, 139.1283540416133, 71.30729505780215, 160.8634758836454, 135.12338394732834, 223.86600347062983, 164.0809736405199, 307.11502785133376, 92.7308798080905, 109.66312834157414, 159.76890095067023, 188.30861197914456, 445.66557881381493, 89.43600990372377, 205.20038494307883, 227.43943822169922, 330.04142018904184, 173.65060069758852, 159.10058705749054, 172.6180773164569, 216.02537470077596, 201.26296046669995, 189.11156188551982, 164.8197214606214, 176.45885332212978, 153.20363328191252, 136.57516735835864, 136.05591532612164, 1010.6692916022896, 705.9944574151833, 238.78283695218437, 220.98564218724812, 137.9494449328952, 134.69836173432668, 105.75155551375894, 101.67468526459623, 94.75671924207045, 67.96804379931775, 67.81933260762376, 65.80345735270703, 64.48176582871021, 63.46381247241609, 59.30682338679141, 58.041106637845246, 54.38214127550953, 54.18002568610228, 53.5383266124334, 51.24037779880052, 50.34307131021053, 44.47487187205807, 40.98325730850243, 38.19456925592586, 35.86574793734814, 34.43353018784365, 33.63355881820811, 30.29457570892497, 29.790292155113654, 28.64195247412951, 1870.1724748237816, 330.8253706162302, 103.30023385810455, 73.5068257761778, 129.7267413854633, 86.94301693425328, 317.12041241068863, 286.2600494387923, 126.7403755786375, 279.44677995603075, 227.27938070777523, 421.00408345614795, 522.8637939236918, 227.9930853180112, 185.40813671422586, 173.40151599185296, 243.63428254346684, 272.7810886006675, 335.3670839898015, 164.85679836928273, 91.8065625331376, 140.86356040531226, 301.9872336546856, 188.40699420520016, 173.0785646906923, 155.00729426223802, 246.17329778022645, 224.959354625937, 182.87980865181052, 182.50508610425166, 151.7538749928377, 138.01966694233025], \"Total\": [3974.0, 1947.0, 1898.0, 1576.0, 1011.0, 3730.0, 1564.0, 2894.0, 1550.0, 1627.0, 706.0, 1341.0, 4324.0, 1124.0, 882.0, 711.0, 1106.0, 2567.0, 548.0, 931.0, 533.0, 705.0, 3056.0, 1466.0, 545.0, 686.0, 1189.0, 666.0, 684.0, 1117.0, 882.9041819084058, 473.76955138785206, 408.9952855426741, 324.49179897309307, 166.15924917293862, 136.00095016774168, 129.36263640230177, 124.25590406388345, 120.11132099081009, 110.97797240363494, 93.96097749295208, 92.61729483420618, 88.29739417684308, 87.41000880300551, 84.63019103381941, 82.66983179076898, 67.23952707401966, 61.640147261306375, 58.456008983576936, 54.41376501974644, 46.06793139025132, 45.92265346061584, 45.7547001429637, 45.50314074021049, 44.50706768385272, 44.37891144576635, 42.15612122553282, 40.95510412089572, 40.728081489825534, 40.228264982132444, 353.8658611156525, 153.76790948604744, 354.3770705245391, 388.4567284311933, 431.62234794096486, 1341.6735468358065, 350.9455045616019, 1550.3887258657871, 167.02338998952766, 433.360526994867, 1084.315178780523, 443.6012974652937, 1466.9673502875119, 257.7437609308388, 354.3108714185858, 879.5238117682286, 1117.0113410477065, 934.2803207020055, 3296.190430591119, 738.6890822483027, 2483.901361583617, 292.71307909783684, 2177.574845885999, 668.1474104337877, 2608.5962414168234, 388.17024563620413, 4156.189635769748, 3730.1634985161836, 2644.1630550984983, 2567.275800048298, 1607.8830184414458, 4324.602239971109, 2984.5006477197267, 1576.094949763304, 328.56770738821706, 280.0212015071787, 252.1962441358386, 250.1817397897887, 152.62623774108079, 151.82210965830168, 319.1834076036749, 142.0674640580682, 138.3630688208629, 135.15678179321392, 117.66784977000385, 106.10679382940532, 90.24323346939298, 85.61720669626217, 78.29920948816249, 77.53086103825576, 70.3171255786039, 64.98759579443656, 62.14853107748571, 60.066187305286526, 57.53405410858502, 57.25301352907596, 54.89250519478688, 54.24061668413704, 54.04561624010221, 50.95341312968443, 51.15832573690538, 50.22244138856147, 46.877949975206555, 1124.5816424333893, 686.1065718518005, 104.513655657988, 305.3330682575302, 160.15441296618692, 413.19753111903384, 104.95499558225063, 142.21910046144075, 1057.066709189698, 776.1741680069147, 3056.476999016226, 184.4728802779104, 2894.692064389645, 1189.0138354444132, 1106.360484920543, 189.3119621227825, 3296.190430591119, 369.03137217765334, 4324.602239971109, 253.52666730764275, 2984.5006477197267, 2177.574845885999, 4156.189635769748, 1627.6203890431163, 989.860885113548, 948.1891481280433, 2608.5962414168234, 2644.1630550984983, 1607.8830184414458, 2483.901361583617, 788.1910988325031, 988.6949986392221, 3974.052182746804, 1898.3731493865323, 545.4760690454524, 388.84016074660786, 218.1809317855738, 186.34131782995786, 173.326368226024, 172.61504749267885, 159.99181751695585, 159.6894668766084, 147.1683311149276, 138.45614214112004, 131.90715839181357, 111.50060651256155, 108.19562131070481, 98.97280808234386, 87.23741572465738, 72.31160869974586, 69.38112049468991, 64.19235993928902, 63.23627289482973, 58.76558444423214, 50.97656311435183, 49.647801951277245, 47.431642967762336, 46.47690065279126, 43.73111528165782, 43.38829219299269, 42.0481505142333, 41.561731520750186, 226.96385957830952, 383.8832111745492, 90.03559625155374, 315.5022208004844, 292.2299936891538, 367.57240062593735, 488.3372709059883, 666.3378336974473, 135.43740073030557, 436.1853994416657, 391.6715786943341, 350.3129674447032, 707.3599525209431, 246.5065751164968, 931.899997344891, 3730.1634985161836, 173.98128833717152, 841.8270226742778, 4324.602239971109, 2984.5006477197267, 4156.189635769748, 358.1522196148407, 2608.5962414168234, 2644.1630550984983, 2483.901361583617, 987.0235674464126, 2894.692064389645, 1627.6203890431163, 2567.275800048298, 2177.574845885999, 3056.476999016226, 1466.9673502875119, 711.8457423565067, 548.575404333079, 533.1226288198872, 187.90982666606152, 142.03932454538685, 127.83627928872387, 125.05325155746077, 112.35153010093475, 111.20961378602195, 100.5666724552919, 96.67703023389149, 94.16944731035679, 81.86176196676494, 81.22102583023525, 78.90666644128267, 77.46925660413723, 75.3392385550325, 66.0377469693785, 65.37281931073709, 64.00735546062025, 55.92982444937149, 53.56389119685065, 53.06400246303738, 49.3814182650306, 48.771458090680426, 47.07302139789236, 45.94688480252181, 45.35662576606606, 44.414449532409606, 44.17529132117856, 281.41042826021226, 314.47971044281377, 119.75195726217166, 199.17217707085618, 197.10662559238338, 523.5245991997601, 532.6465461295841, 452.51573896166224, 209.17079473356645, 101.72183429635975, 406.0953531516867, 1627.6203890431163, 1106.360484920543, 346.0284213430167, 948.1891481280433, 684.3728158648416, 125.69372993610149, 4324.602239971109, 258.81931491732666, 3730.1634985161836, 290.5701453872001, 1189.0138354444132, 624.1507946379147, 584.9777580520605, 246.1087460094513, 723.9647239800942, 4156.189635769748, 1329.2467822855322, 2984.5006477197267, 1157.688380753324, 1051.6796355023962, 1057.066709189698, 1316.171155544164, 3296.190430591119, 383.331348646073, 234.86764510013145, 194.1123670191827, 191.1434330431994, 174.32644028092614, 135.90543774661546, 99.69817797278374, 98.01127131544146, 68.57487207986844, 63.79595585067891, 63.648894327414745, 57.977506554811995, 56.95391014888874, 56.774701822319436, 55.74414586669415, 50.60257985601866, 49.04081719056671, 47.96519868383336, 47.54057924476927, 46.56441535778356, 44.864765760904966, 44.85764538113873, 44.83655257870368, 39.64603916120716, 39.50796975600445, 35.30367973896549, 34.94246224851251, 34.56103235221083, 34.37163575636211, 33.66847861676212, 477.2088930325472, 295.388881562656, 73.61944624619723, 545.4861312203939, 1564.5284260902292, 92.90705992920674, 705.7499420513088, 226.8555793736396, 245.92657922343778, 236.71499932058924, 2567.275800048298, 304.6102141965211, 268.38123140945066, 254.8412356187056, 931.899997344891, 490.43771017759684, 588.1401985351156, 316.98313927934726, 2608.5962414168234, 179.78072958915754, 650.1448389073689, 4156.189635769748, 232.3672164861081, 3056.476999016226, 624.1507946379147, 1329.2467822855322, 1607.8830184414458, 2483.901361583617, 4324.602239971109, 2984.5006477197267, 2644.1630550984983, 566.2456025663374, 717.4912227105876, 1157.688380753324, 867.127538345647, 2177.574845885999, 788.1910988325031, 878.170189454601, 364.4496093629306, 242.26851648431125, 172.18823173794172, 168.08111101990997, 156.97304300766427, 121.35558360926757, 110.24365698075158, 105.27228438043659, 84.91668681191048, 71.66206886355253, 62.46921301581506, 58.89177148413849, 55.24707846241065, 53.93651429122722, 52.39351066112774, 50.720181450720055, 50.10954122561826, 49.31572669107143, 48.75187733924942, 48.20657830743743, 47.60033237741548, 47.56620193128781, 46.634140260381585, 43.74325426221735, 43.54743844734288, 42.932509366078826, 42.526751749521054, 42.34781074953338, 42.394178733016936, 41.52065936326159, 141.4509814108919, 312.35671224865126, 152.84951264754355, 99.35986570407464, 438.85477069363805, 2894.692064389645, 215.38559345911764, 89.74113961960205, 319.68215347896233, 250.58121774875318, 577.5084857620876, 351.1949069345487, 989.860885113548, 142.71744637979194, 197.77273660566718, 403.5841824178791, 559.5782577807536, 3056.476999016226, 142.53564486643194, 855.351357486272, 1117.0113410477065, 2644.1630550984983, 650.1448389073689, 537.4524767935083, 721.4985865612921, 1329.2467822855322, 1189.0138354444132, 1607.8830184414458, 867.127538345647, 4156.189635769748, 2483.901361583617, 668.1474104337877, 852.4407882570241, 1011.5037401101343, 706.8288601420878, 239.6177284678316, 221.82053726282086, 138.7853191309248, 135.53294846064716, 106.58701183969126, 102.51046237423914, 95.59414019024645, 68.8022049363743, 68.65727285016662, 66.63891553035461, 65.3224264250179, 64.2981025930259, 60.14229101479616, 58.87889131909051, 55.22078110013153, 55.01623467562011, 54.3732455162617, 52.07485772715666, 51.17743639270242, 45.31108761698163, 41.81876118444786, 39.032055323449796, 36.70008553889929, 35.26963629881286, 34.467769751105806, 31.130926727321206, 30.634308301462994, 29.476968441380603, 1947.407763517859, 361.4028045051867, 113.90398759454163, 82.59725676872081, 166.8932726137615, 106.9413261980293, 575.9134900562344, 588.1401985351156, 199.02534078721524, 705.7499420513088, 535.9276657438777, 1564.5284260902292, 2567.275800048298, 684.3728158648416, 493.98746376289347, 438.7150662036199, 878.170189454601, 1316.171155544164, 2644.1630550984983, 571.2106967435572, 144.56127848129748, 431.6164461186238, 3296.190430591119, 987.0235674464126, 867.127538345647, 608.735461040761, 4156.189635769748, 2984.5006477197267, 1607.8830184414458, 2177.574845885999, 2483.901361583617, 1015.0245879254841], \"Category\": [\"Default\", \"Default\", \"Default\", \"Default\", \"Default\", \"Default\", \"Default\", \"Default\", \"Default\", \"Default\", \"Default\", \"Default\", \"Default\", \"Default\", \"Default\", \"Default\", \"Default\", \"Default\", \"Default\", \"Default\", \"Default\", \"Default\", \"Default\", \"Default\", \"Default\", \"Default\", \"Default\", \"Default\", \"Default\", \"Default\", \"Topic1\", \"Topic1\", \"Topic1\", \"Topic1\", \"Topic1\", \"Topic1\", \"Topic1\", \"Topic1\", \"Topic1\", \"Topic1\", \"Topic1\", \"Topic1\", \"Topic1\", \"Topic1\", \"Topic1\", \"Topic1\", \"Topic1\", \"Topic1\", \"Topic1\", \"Topic1\", \"Topic1\", \"Topic1\", \"Topic1\", \"Topic1\", \"Topic1\", \"Topic1\", \"Topic1\", \"Topic1\", \"Topic1\", \"Topic1\", \"Topic1\", \"Topic1\", \"Topic1\", \"Topic1\", \"Topic1\", \"Topic1\", \"Topic1\", \"Topic1\", \"Topic1\", \"Topic1\", \"Topic1\", \"Topic1\", \"Topic1\", \"Topic1\", \"Topic1\", \"Topic1\", \"Topic1\", \"Topic1\", \"Topic1\", \"Topic1\", \"Topic1\", \"Topic1\", \"Topic1\", \"Topic1\", \"Topic1\", \"Topic1\", \"Topic1\", \"Topic1\", \"Topic1\", \"Topic1\", \"Topic1\", \"Topic1\", \"Topic1\", \"Topic2\", \"Topic2\", \"Topic2\", \"Topic2\", \"Topic2\", \"Topic2\", \"Topic2\", \"Topic2\", \"Topic2\", \"Topic2\", \"Topic2\", \"Topic2\", \"Topic2\", \"Topic2\", \"Topic2\", \"Topic2\", \"Topic2\", \"Topic2\", \"Topic2\", \"Topic2\", \"Topic2\", \"Topic2\", \"Topic2\", \"Topic2\", \"Topic2\", \"Topic2\", \"Topic2\", \"Topic2\", \"Topic2\", \"Topic2\", \"Topic2\", \"Topic2\", \"Topic2\", \"Topic2\", \"Topic2\", \"Topic2\", \"Topic2\", \"Topic2\", \"Topic2\", \"Topic2\", \"Topic2\", \"Topic2\", \"Topic2\", \"Topic2\", \"Topic2\", \"Topic2\", \"Topic2\", \"Topic2\", \"Topic2\", \"Topic2\", \"Topic2\", \"Topic2\", \"Topic2\", \"Topic2\", \"Topic2\", \"Topic2\", \"Topic2\", \"Topic2\", \"Topic2\", \"Topic2\", \"Topic2\", \"Topic2\", \"Topic3\", \"Topic3\", \"Topic3\", \"Topic3\", \"Topic3\", \"Topic3\", \"Topic3\", \"Topic3\", \"Topic3\", \"Topic3\", \"Topic3\", \"Topic3\", \"Topic3\", \"Topic3\", \"Topic3\", \"Topic3\", \"Topic3\", \"Topic3\", \"Topic3\", \"Topic3\", \"Topic3\", \"Topic3\", \"Topic3\", \"Topic3\", \"Topic3\", \"Topic3\", \"Topic3\", \"Topic3\", \"Topic3\", \"Topic3\", \"Topic3\", \"Topic3\", \"Topic3\", \"Topic3\", \"Topic3\", \"Topic3\", \"Topic3\", \"Topic3\", \"Topic3\", \"Topic3\", \"Topic3\", \"Topic3\", \"Topic3\", \"Topic3\", \"Topic3\", \"Topic3\", \"Topic3\", \"Topic3\", \"Topic3\", \"Topic3\", \"Topic3\", \"Topic3\", \"Topic3\", \"Topic3\", \"Topic3\", \"Topic3\", \"Topic3\", \"Topic3\", \"Topic3\", \"Topic3\", \"Topic3\", \"Topic3\", \"Topic4\", \"Topic4\", \"Topic4\", \"Topic4\", \"Topic4\", \"Topic4\", \"Topic4\", \"Topic4\", \"Topic4\", \"Topic4\", \"Topic4\", \"Topic4\", \"Topic4\", \"Topic4\", \"Topic4\", \"Topic4\", \"Topic4\", \"Topic4\", \"Topic4\", \"Topic4\", \"Topic4\", \"Topic4\", \"Topic4\", \"Topic4\", \"Topic4\", \"Topic4\", \"Topic4\", \"Topic4\", \"Topic4\", \"Topic4\", \"Topic4\", \"Topic4\", \"Topic4\", \"Topic4\", \"Topic4\", \"Topic4\", \"Topic4\", \"Topic4\", \"Topic4\", \"Topic4\", \"Topic4\", \"Topic4\", \"Topic4\", \"Topic4\", \"Topic4\", \"Topic4\", \"Topic4\", \"Topic4\", \"Topic4\", \"Topic4\", \"Topic4\", \"Topic4\", \"Topic4\", \"Topic4\", \"Topic4\", \"Topic4\", \"Topic4\", \"Topic4\", \"Topic4\", \"Topic4\", \"Topic4\", \"Topic4\", \"Topic4\", \"Topic4\", \"Topic5\", \"Topic5\", \"Topic5\", \"Topic5\", \"Topic5\", \"Topic5\", \"Topic5\", \"Topic5\", \"Topic5\", \"Topic5\", \"Topic5\", \"Topic5\", \"Topic5\", \"Topic5\", \"Topic5\", \"Topic5\", \"Topic5\", \"Topic5\", \"Topic5\", \"Topic5\", \"Topic5\", \"Topic5\", \"Topic5\", \"Topic5\", \"Topic5\", \"Topic5\", \"Topic5\", \"Topic5\", \"Topic5\", \"Topic5\", \"Topic5\", \"Topic5\", \"Topic5\", \"Topic5\", \"Topic5\", \"Topic5\", \"Topic5\", \"Topic5\", \"Topic5\", \"Topic5\", \"Topic5\", \"Topic5\", \"Topic5\", \"Topic5\", \"Topic5\", \"Topic5\", \"Topic5\", \"Topic5\", \"Topic5\", \"Topic5\", \"Topic5\", \"Topic5\", \"Topic5\", \"Topic5\", \"Topic5\", \"Topic5\", \"Topic5\", \"Topic5\", \"Topic5\", \"Topic5\", \"Topic5\", \"Topic5\", \"Topic5\", \"Topic5\", \"Topic5\", \"Topic5\", \"Topic5\", \"Topic5\", \"Topic6\", \"Topic6\", \"Topic6\", \"Topic6\", \"Topic6\", \"Topic6\", \"Topic6\", \"Topic6\", \"Topic6\", \"Topic6\", \"Topic6\", \"Topic6\", \"Topic6\", \"Topic6\", \"Topic6\", \"Topic6\", \"Topic6\", \"Topic6\", \"Topic6\", \"Topic6\", \"Topic6\", \"Topic6\", \"Topic6\", \"Topic6\", \"Topic6\", \"Topic6\", \"Topic6\", \"Topic6\", \"Topic6\", \"Topic6\", \"Topic6\", \"Topic6\", \"Topic6\", \"Topic6\", \"Topic6\", \"Topic6\", \"Topic6\", \"Topic6\", \"Topic6\", \"Topic6\", \"Topic6\", \"Topic6\", \"Topic6\", \"Topic6\", \"Topic6\", \"Topic6\", \"Topic6\", \"Topic6\", \"Topic6\", \"Topic6\", \"Topic6\", \"Topic6\", \"Topic6\", \"Topic6\", \"Topic6\", \"Topic6\", \"Topic6\", \"Topic6\", \"Topic6\", \"Topic6\", \"Topic6\", \"Topic6\", \"Topic6\", \"Topic7\", \"Topic7\", \"Topic7\", \"Topic7\", \"Topic7\", \"Topic7\", \"Topic7\", \"Topic7\", \"Topic7\", \"Topic7\", \"Topic7\", \"Topic7\", \"Topic7\", \"Topic7\", \"Topic7\", \"Topic7\", \"Topic7\", \"Topic7\", \"Topic7\", \"Topic7\", \"Topic7\", \"Topic7\", \"Topic7\", \"Topic7\", \"Topic7\", \"Topic7\", \"Topic7\", \"Topic7\", \"Topic7\", \"Topic7\", \"Topic7\", \"Topic7\", \"Topic7\", \"Topic7\", \"Topic7\", \"Topic7\", \"Topic7\", \"Topic7\", \"Topic7\", \"Topic7\", \"Topic7\", \"Topic7\", \"Topic7\", \"Topic7\", \"Topic7\", \"Topic7\", \"Topic7\", \"Topic7\", \"Topic7\", \"Topic7\", \"Topic7\", \"Topic7\", \"Topic7\", \"Topic7\", \"Topic7\", \"Topic7\", \"Topic7\", \"Topic7\", \"Topic7\", \"Topic7\", \"Topic7\", \"Topic7\"], \"logprob\": [30.0, 29.0, 28.0, 27.0, 26.0, 25.0, 24.0, 23.0, 22.0, 21.0, 20.0, 19.0, 18.0, 17.0, 16.0, 15.0, 14.0, 13.0, 12.0, 11.0, 10.0, 9.0, 8.0, 7.0, 6.0, 5.0, 4.0, 3.0, 2.0, 1.0, -4.1407, -4.764, -4.9113, -5.1433, -5.815, -6.0164, -6.0668, -6.1073, -6.1415, -6.2211, -6.389, -6.4035, -6.4517, -6.4619, -6.4945, -6.5182, -6.7271, -6.8152, -6.869, -6.9419, -7.1111, -7.1143, -7.118, -7.1236, -7.1461, -7.1491, -7.2015, -7.2312, -7.2368, -7.2493, -5.0849, -5.9123, -5.0964, -5.0399, -4.9408, -3.8446, -5.1559, -3.7788, -5.8881, -5.0296, -4.2287, -5.0365, -4.0345, -5.5788, -5.3226, -4.5839, -4.4239, -4.5799, -3.6526, -4.8081, -3.9573, -5.5391, -4.2348, -5.0126, -4.2542, -5.3962, -4.0266, -4.1338, -4.4083, -4.7334, -4.9387, -4.6612, -4.896, -3.5289, -5.0989, -5.2592, -5.3643, -5.3723, -5.8686, -5.874, -5.131, -5.9407, -5.9673, -5.991, -6.1304, -6.2346, -6.398, -6.4511, -6.5413, -6.5513, -6.6502, -6.73, -6.7752, -6.8097, -6.8534, -6.8584, -6.9012, -6.9133, -6.9169, -6.9768, -6.9728, -6.9914, -7.0616, -3.9498, -4.462, -6.2942, -5.3267, -5.9262, -5.098, -6.3371, -6.0821, -4.4228, -4.7091, -3.6192, -5.8964, -3.7548, -4.6362, -4.739, -5.9397, -4.0536, -5.5093, -3.9348, -5.7512, -4.3059, -4.6572, -4.4975, -4.9501, -5.1984, -5.3224, -4.9903, -5.031, -5.2987, -5.2026, -5.4859, -5.453, -2.4897, -3.2287, -4.477, -4.8161, -5.3957, -5.5541, -5.6268, -5.631, -5.7073, -5.7092, -5.7913, -5.8527, -5.9015, -6.0708, -6.1011, -6.1909, -6.3183, -6.508, -6.5499, -6.6286, -6.6439, -6.7182, -6.8627, -6.8896, -6.936, -6.9568, -7.0189, -7.0269, -7.0589, -7.0708, -5.3827, -4.868, -6.3128, -5.1022, -5.1844, -4.9965, -4.7357, -4.4449, -5.9543, -4.9471, -5.0552, -5.1733, -4.605, -5.48, -4.4616, -3.4872, -5.7858, -4.776, -3.7862, -4.08, -3.907, -5.3806, -4.6122, -4.6694, -4.7367, -5.07, -4.7506, -5.0433, -4.963, -5.036, -5.0145, -5.1995, -4.0018, -4.2627, -4.2913, -5.337, -5.6183, -5.7243, -5.7465, -5.8543, -5.8646, -5.966, -6.0058, -6.0323, -6.1737, -6.1817, -6.2109, -6.2295, -6.2577, -6.391, -6.4013, -6.4227, -6.5595, -6.6034, -6.6129, -6.686, -6.6987, -6.7348, -6.7594, -6.7727, -6.794, -6.7995, -4.9735, -4.9042, -5.8379, -5.3538, -5.3972, -4.5262, -4.5171, -4.6986, -5.4038, -6.0399, -4.8742, -3.7252, -4.1134, -5.0528, -4.3447, -4.6115, -5.8786, -3.5119, -5.407, -3.6497, -5.3584, -4.5574, -4.9924, -5.095, -5.53, -5.0804, -4.4625, -4.8944, -4.7404, -5.0788, -5.1106, -5.2049, -5.2985, -5.289, -4.5945, -5.0858, -5.2771, -5.2926, -5.3851, -5.6354, -5.9475, -5.9647, -6.3255, -6.3987, -6.4011, -6.4956, -6.5137, -6.5169, -6.5355, -6.6338, -6.6657, -6.6883, -6.6973, -6.7185, -6.7563, -6.7565, -6.7571, -6.8825, -6.886, -7.0011, -7.0117, -7.0229, -7.0285, -7.0498, -4.4964, -4.9927, -6.3097, -4.523, -3.6602, -6.1662, -4.4877, -5.4338, -5.3772, -5.4164, -3.6663, -5.3749, -5.4662, -5.503, -4.6345, -5.0737, -4.9857, -5.392, -4.026, -5.7619, -5.0214, -3.941, -5.6386, -4.2265, -5.1092, -4.73, -4.6809, -4.5406, -4.3202, -4.6041, -4.7532, -5.221, -5.1578, -5.0358, -5.1956, -5.0556, -5.2136, -5.222, -4.5294, -4.9389, -5.2818, -5.3061, -5.3748, -5.6337, -5.7305, -5.777, -5.9938, -6.1653, -6.3044, -6.3641, -6.429, -6.4534, -6.4828, -6.5158, -6.5282, -6.5444, -6.5561, -6.5676, -6.5804, -6.5811, -6.6013, -6.6665, -6.6711, -6.6855, -6.6953, -6.6996, -6.6985, -6.7197, -5.5913, -5.0155, -5.6738, -6.0297, -4.9139, -3.5699, -5.4901, -6.1585, -5.345, -5.5194, -5.0145, -5.3252, -4.6983, -5.8958, -5.7281, -5.3518, -5.1875, -4.326, -5.932, -5.1016, -4.9987, -4.6263, -5.2685, -5.356, -5.2745, -5.0501, -5.1209, -5.1832, -5.3207, -5.2525, -5.3938, -5.5087, -5.5125, -3.3919, -3.7507, -4.8347, -4.9122, -5.3834, -5.4072, -5.6492, -5.6885, -5.759, -6.0912, -6.0934, -6.1236, -6.1439, -6.1598, -6.2276, -6.2491, -6.3142, -6.318, -6.3299, -6.3738, -6.3914, -6.5154, -6.5971, -6.6676, -6.7305, -6.7713, -6.7948, -6.8993, -6.9161, -6.9554, -2.7765, -4.5087, -5.6726, -6.0129, -5.4449, -5.845, -4.551, -4.6534, -5.4681, -4.6775, -4.8841, -4.2676, -4.051, -4.881, -5.0877, -5.1547, -4.8146, -4.7016, -4.4951, -5.2052, -5.7906, -5.3625, -4.5999, -5.0717, -5.1565, -5.2668, -4.8042, -4.8944, -5.1015, -5.1035, -5.288, -5.3829], \"loglift\": [30.0, 29.0, 28.0, 27.0, 26.0, 25.0, 24.0, 23.0, 22.0, 21.0, 20.0, 19.0, 18.0, 17.0, 16.0, 15.0, 14.0, 13.0, 12.0, 11.0, 10.0, 9.0, 8.0, 7.0, 6.0, 5.0, 4.0, 3.0, 2.0, 1.0, 1.6794, 1.6785, 1.6783, 1.6777, 1.6753, 1.6742, 1.6738, 1.6736, 1.6733, 1.6728, 1.6714, 1.6713, 1.6708, 1.6708, 1.6705, 1.6702, 1.6678, 1.6667, 1.666, 1.6647, 1.6621, 1.662, 1.662, 1.6619, 1.6615, 1.6614, 1.6604, 1.6596, 1.6595, 1.6594, 1.6494, 1.6555, 1.6365, 1.6012, 1.5949, 1.5569, 1.5867, 1.4782, 1.597, 1.502, 1.3858, 1.4718, 1.2778, 1.4725, 1.4105, 1.24, 1.1609, 1.1836, 0.8501, 1.1902, 0.8284, 1.3849, 0.6825, 1.0861, 0.4825, 1.2456, 0.2443, 0.2453, 0.3149, 0.0192, 0.2819, -0.4301, -0.294, 1.7116, 1.7096, 1.7091, 1.7088, 1.7088, 1.7066, 1.7066, 1.7065, 1.7062, 1.706, 1.7058, 1.7049, 1.7042, 1.7027, 1.7023, 1.7014, 1.7013, 1.7001, 1.6991, 1.6986, 1.6981, 1.6974, 1.6974, 1.6967, 1.6966, 1.6965, 1.6956, 1.6955, 1.6953, 1.6941, 1.6282, 1.6102, 1.6598, 1.5551, 1.601, 1.4813, 1.6126, 1.5637, 1.2172, 1.2398, 0.959, 1.4893, 0.8778, 0.8862, 0.8555, 1.4201, 0.4492, 1.1831, 0.2964, 1.3166, 0.2961, 0.2601, -0.2266, 0.2583, 0.5073, 0.4263, -0.2536, -0.3079, -0.0781, -0.4169, 0.4476, 0.2539, 1.826, 1.8258, 1.8246, 1.824, 1.8223, 1.8216, 1.8212, 1.8212, 1.8208, 1.8208, 1.8203, 1.82, 1.8197, 1.8185, 1.8182, 1.8175, 1.8163, 1.8143, 1.8137, 1.8127, 1.8125, 1.8115, 1.8092, 1.8087, 1.8079, 1.8075, 1.8063, 1.8062, 1.8056, 1.8053, 1.7957, 1.7849, 1.7902, 1.7469, 1.7413, 1.6998, 1.6766, 1.6565, 1.7404, 1.5781, 1.5776, 1.5711, 1.4367, 1.6159, 1.3044, 0.8918, 1.6585, 1.0917, 0.445, 0.5221, 0.3639, 1.3417, 0.1245, 0.0537, 0.049, 0.6386, -0.118, 0.1651, -0.2103, -0.1187, -0.4362, 0.1128, 2.0336, 2.0332, 2.0332, 2.0303, 2.0288, 2.0282, 2.028, 2.0273, 2.0272, 2.0264, 2.0261, 2.0258, 2.0245, 2.0244, 2.0241, 2.0239, 2.0236, 2.022, 2.0218, 2.0216, 2.0196, 2.019, 2.0189, 2.0177, 2.0174, 2.0168, 2.0164, 2.016, 2.0157, 2.0156, 1.9899, 1.9481, 1.9799, 1.9552, 1.9223, 1.8165, 1.8083, 1.7898, 1.8563, 1.9411, 1.7225, 1.4832, 1.481, 1.7039, 1.404, 1.4633, 1.8908, 0.7193, 1.6401, 0.7293, 1.573, 0.965, 1.1744, 1.1367, 1.5675, 0.9381, -0.1916, 0.5165, -0.1383, 0.4703, 0.5345, 0.4351, 0.1222, -0.7863, 2.0599, 2.0585, 2.0577, 2.0577, 2.0572, 2.0559, 2.0536, 2.0535, 2.0498, 2.0489, 2.0488, 2.0476, 2.0473, 2.0473, 2.047, 2.0454, 2.0449, 2.0444, 2.0444, 2.0439, 2.0433, 2.0432, 2.0431, 2.0408, 2.0407, 2.0382, 2.0379, 2.0376, 2.0375, 2.0368, 1.9389, 1.9222, 1.9947, 1.7785, 1.5877, 1.9055, 1.5563, 1.7451, 1.721, 1.72, 1.0863, 1.5093, 1.5447, 1.5596, 1.1315, 1.3343, 1.2405, 1.4524, 0.7107, 1.6496, 1.1046, 0.3299, 1.5163, 0.3518, 1.0577, 0.6809, 0.5396, 0.2451, -0.0891, -0.0021, -0.03, 1.0432, 0.8697, 0.5132, 0.6425, -0.1383, 0.7199, 0.6034, 2.1754, 2.1743, 2.1728, 2.1727, 2.1724, 2.1708, 2.1701, 2.1697, 2.1678, 2.166, 2.1642, 2.1634, 2.1625, 2.1621, 2.1616, 2.1611, 2.1609, 2.1606, 2.1604, 2.1602, 2.16, 2.16, 2.1596, 2.1584, 2.1583, 2.1581, 2.1578, 2.1577, 2.1577, 2.1574, 2.06, 1.8436, 1.9, 1.9748, 1.6052, 1.0627, 1.7407, 1.9478, 1.4909, 1.5601, 1.23, 1.4167, 1.0074, 1.7465, 1.588, 1.2511, 1.0886, 0.2523, 1.7116, 0.7502, 0.5862, 0.0968, 0.8576, 0.9604, 0.7475, 0.3607, 0.4014, 0.0374, 0.5174, -0.9816, -0.6081, 0.5901, 0.3427, 2.2921, 2.2918, 2.2895, 2.2892, 2.2869, 2.2868, 2.2851, 2.2848, 2.2842, 2.2808, 2.2807, 2.2803, 2.28, 2.2799, 2.279, 2.2786, 2.2777, 2.2777, 2.2775, 2.2768, 2.2765, 2.2743, 2.2728, 2.2713, 2.27, 2.269, 2.2685, 2.2657, 2.265, 2.2642, 2.2525, 2.2046, 2.1953, 2.1764, 2.041, 2.0859, 1.6963, 1.5729, 1.8417, 1.3665, 1.4351, 0.9803, 0.7017, 1.1938, 1.313, 1.3647, 1.0108, 0.7192, 0.2281, 1.0503, 1.8389, 1.1732, -0.0972, 0.6369, 0.6815, 0.9251, -0.5334, -0.2923, 0.1191, -0.1862, -0.5024, 0.2977]}, \"token.table\": {\"Topic\": [2, 4, 2, 3, 4, 6, 5, 7, 5, 2, 3, 4, 5, 2, 1, 3, 7, 7, 1, 5, 5, 7, 4, 1, 5, 6, 7, 2, 4, 5, 2, 5, 6, 1, 3, 6, 1, 4, 2, 4, 2, 1, 2, 3, 4, 5, 6, 7, 2, 3, 3, 2, 3, 4, 4, 6, 7, 4, 3, 1, 4, 1, 2, 6, 6, 7, 1, 2, 3, 5, 6, 1, 1, 2, 3, 4, 5, 6, 7, 5, 2, 3, 3, 3, 2, 4, 6, 2, 5, 1, 2, 3, 5, 6, 7, 2, 5, 4, 4, 1, 4, 6, 7, 5, 5, 4, 4, 4, 2, 1, 2, 4, 6, 7, 7, 5, 6, 4, 5, 5, 6, 7, 6, 1, 2, 3, 5, 4, 6, 7, 2, 3, 3, 2, 4, 1, 3, 7, 1, 2, 3, 4, 5, 6, 7, 4, 1, 4, 7, 1, 2, 6, 1, 2, 5, 6, 5, 4, 6, 7, 6, 2, 1, 4, 1, 2, 3, 3, 3, 3, 3, 1, 5, 7, 2, 3, 4, 5, 6, 7, 3, 6, 1, 7, 6, 2, 3, 2, 7, 3, 2, 3, 4, 1, 7, 2, 3, 4, 5, 6, 1, 4, 5, 6, 7, 4, 7, 2, 1, 2, 4, 4, 7, 1, 2, 3, 4, 5, 7, 7, 4, 1, 2, 3, 1, 2, 3, 4, 5, 6, 7, 1, 7, 1, 2, 3, 4, 5, 4, 5, 2, 4, 5, 6, 7, 7, 2, 4, 5, 7, 6, 3, 5, 2, 4, 5, 3, 1, 1, 2, 3, 4, 5, 6, 7, 1, 5, 6, 1, 2, 3, 4, 5, 6, 7, 2, 5, 1, 2, 3, 4, 5, 6, 7, 6, 1, 2, 3, 4, 5, 6, 7, 2, 4, 4, 2, 7, 6, 1, 2, 3, 4, 5, 6, 7, 2, 3, 3, 6, 1, 7, 3, 1, 1, 2, 3, 5, 7, 1, 2, 3, 5, 3, 4, 5, 7, 2, 6, 1, 2, 3, 4, 6, 7, 6, 1, 6, 2, 3, 6, 3, 6, 7, 5, 2, 2, 7, 2, 4, 7, 6, 2, 4, 6, 7, 2, 1, 2, 5, 4, 3, 1, 3, 4, 3, 2, 3, 4, 5, 6, 7, 1, 3, 7, 4, 5, 6, 2, 5, 2, 2, 4, 1, 2, 3, 4, 5, 6, 7, 7, 1, 7, 1, 2, 3, 4, 5, 6, 7, 1, 2, 3, 4, 5, 6, 7, 1, 3, 4, 6, 3, 1, 1, 2, 3, 4, 5, 6, 7, 3, 6, 7, 3, 6, 2, 3, 5, 2, 5, 2, 5, 7, 1, 3, 5, 6, 7, 2, 3, 5, 7, 3, 2, 4, 7, 1, 2, 3, 4, 5, 6, 7, 7, 6, 4, 5, 2, 5, 1, 5, 7, 1, 1, 5, 6, 2, 1, 3, 5, 6, 1, 3, 4, 7, 6, 1, 3, 4, 5, 1, 2, 3, 5, 6, 2, 7, 5, 5, 1, 2, 3, 4, 5, 6, 7, 1, 4, 5, 6, 2, 4, 7, 6, 6, 3, 5, 3, 6, 7, 1, 4, 6, 5, 6, 2, 6, 2, 1, 5, 7, 1, 2, 3, 4, 7, 2, 3, 5, 6, 7, 1, 2, 3, 4, 5, 6, 7, 4, 7, 3, 6, 5, 4, 7, 1, 2, 3, 5, 7, 2, 3, 4, 5, 6, 7, 1, 2, 3, 6, 7, 5, 5, 1, 3, 6, 2, 6, 5, 5, 6, 1, 2, 3, 4, 3, 3, 4, 6, 5, 1, 1, 1, 4, 4, 5, 6, 6, 1, 6, 4, 5, 6, 1, 2, 3, 4, 5, 6, 7, 1, 3, 1, 6, 7, 7, 1, 1, 1, 7, 2, 1, 3, 4, 5, 6, 7, 1, 2, 3, 4, 5, 6, 7, 2, 3, 4, 1, 4, 5, 4, 4, 4, 5, 6, 5, 7, 6, 2, 4, 4, 1, 6, 7, 1, 3, 2, 3, 5, 6, 7, 1, 2, 3, 4, 5, 7, 2, 5, 7, 1, 2, 3, 5, 6, 7, 2, 1, 2, 3, 4, 2, 3, 4, 5, 6, 7, 2, 4, 7, 1, 2, 4, 5, 4, 7, 6, 2, 1, 2, 3, 4, 5, 6, 7, 4, 4, 1, 2, 3, 4, 5, 2, 2, 1, 2, 4, 5, 6, 1, 2, 3, 5, 7, 1, 2, 3, 4, 5, 6, 7, 1, 2, 3, 4, 5, 6, 7, 1, 2, 3, 5, 6, 7, 2, 6, 1, 6, 5, 1, 2, 3, 4, 5, 6, 5, 7, 1, 7, 1, 2, 3, 4, 5, 6, 7, 5, 7, 6, 1, 2, 3, 5, 6, 7, 2, 3, 1, 7, 1, 4, 7, 2, 6, 1, 1, 2, 3, 4, 5, 6, 7, 1, 2, 4, 6, 2, 3, 4, 6, 2, 2, 3, 7, 7, 4, 2, 3, 5, 6, 7, 1, 2, 3, 5, 6, 7, 3], \"Freq\": [0.050103565212418745, 0.9436171448338864, 0.43817824862001525, 0.04962095329861977, 0.34314150755655703, 0.16904765445800973, 0.0877932389478453, 0.9042703611628066, 0.9880919143305895, 0.07727398554620431, 0.08886508337813495, 0.6722836742519774, 0.15841167036971882, 0.9781144528149665, 0.8839706222106369, 0.07006175251922417, 0.045465605358219946, 0.9904122759911425, 0.9566081673913654, 0.04232779501731706, 0.08300987049913569, 0.9158755711737971, 0.9922760771474096, 0.5953386286805824, 0.17099199710976126, 0.2032208552037477, 0.03043836597765384, 0.8022859499837396, 0.0704710631742474, 0.1301004243216875, 0.9931529067116406, 0.9942694685750096, 0.9830087112915299, 0.9694676123198954, 0.8600613244628953, 0.13720025890241425, 0.997196745425209, 0.9875814572161329, 0.15776581067177234, 0.8366368747745503, 0.9924862172690583, 0.03315078650249248, 0.13950955986465585, 0.1643726497415252, 0.33427043056679917, 0.1560849531159021, 0.1657539325124624, 0.005525131083748747, 0.22265804366009453, 0.7735939722036618, 0.985815538959075, 0.15574272762743718, 0.7787136381371859, 0.06382898673255623, 0.993942673200866, 0.09685551691384456, 0.8959135314530621, 0.9906685878858595, 0.9804499405446331, 0.9983756841578405, 0.977205172601468, 0.09111749449704792, 0.4413503639700759, 0.4669771592973706, 0.8152184931614525, 0.18115966514698942, 0.6132485383718298, 0.11912995888900887, 0.07987122243694914, 0.15432744674257967, 0.035197487853570804, 0.9914619031106835, 0.32522019796394347, 0.12157764409867045, 0.30495725728083173, 0.032420705092978785, 0.011144617375711457, 0.013170911444022632, 0.19047164242125036, 0.9837669098974429, 0.03907438398804994, 0.9586248871734919, 0.9931227508584564, 0.9901709560313324, 0.7448023802560945, 0.1373394460046699, 0.11621030046548991, 0.2846377980820087, 0.7115944952050217, 0.4267480248588433, 0.11876478050316865, 0.1690888400384096, 0.16264736041789876, 0.061596648871134925, 0.061194056394852994, 0.42349203666812985, 0.5745047009063777, 0.979948695657126, 0.9978942390377009, 0.09663411426669498, 0.23043519555904188, 0.39644764827362045, 0.27503555598982415, 0.9963058125789886, 0.989187719810707, 0.9842618796953733, 0.9934582006502622, 0.996871158758417, 0.9914411857261904, 0.6466234927115948, 0.09274281170365503, 0.018033324497932924, 0.15714754205341547, 0.08243805484769336, 0.9988273538492455, 0.9929970839289126, 0.9876136378197052, 0.9891231185430662, 0.9923910550872915, 0.9863548059707311, 0.7171288184826489, 0.28172917868961206, 0.9873880633299882, 0.9989759002993378, 0.011803841647537812, 0.5934113119171281, 0.3938190804223979, 0.9894725498045257, 0.17766751802588107, 0.8135302141185081, 0.0728996453389297, 0.9223389910273279, 0.9997352368065593, 0.8928882904412462, 0.0999035849444751, 0.8115395560315409, 0.14427369885005173, 0.042831254346109106, 0.31051031958544906, 0.23262988112264915, 0.10620059790381808, 0.017194382517761023, 0.1941953790241245, 0.11429207202982328, 0.02528585664376621, 0.9885096344558244, 0.14449680117586405, 0.719594069855803, 0.13293705708179493, 0.20225234623594626, 0.23764650682723684, 0.5561939521488523, 0.1795824938687924, 0.15164743926698024, 0.12770310675114127, 0.5387474816063772, 0.99652689859367, 0.6297962915499897, 0.15486794054507946, 0.21337360697322058, 0.9907020552161341, 0.982249792218913, 0.369755246310935, 0.6257396476031207, 0.1814404791752386, 0.6744852595427347, 0.1419968967458389, 0.994506855871273, 0.9869520517360874, 0.999803437281731, 0.9978393159158389, 0.98989260048973, 0.7273349875527586, 0.268893540852838, 0.13031531695509005, 0.1579929063968791, 0.07957306964514349, 0.24217890761565408, 0.19028342741229964, 0.19950929055956265, 0.9938008234899217, 0.9782796444967271, 0.9907475749859157, 0.9931354931507617, 0.9970699031829269, 0.9848033185046506, 0.9908996834021603, 0.9927910904819426, 0.999501988880358, 0.9818617131698458, 0.23346967300121088, 0.18984770778256357, 0.5763014559871995, 0.9821233541283446, 0.9943414826882089, 0.3274708138848526, 0.11908029595812822, 0.003721259248691507, 0.25304562891102245, 0.2958401102709748, 0.06775204479019596, 0.02237095818544206, 0.6225518077891591, 0.018535936782223424, 0.2690906684591745, 0.8929177264896621, 0.10146792346473432, 0.994324279985491, 0.9886070300686944, 0.9051498642153804, 0.08575103976777287, 0.955899188466688, 0.0426423429799266, 0.21025697112657948, 0.07127354953443372, 0.47990856686518707, 0.05226726965858473, 0.18649912128176824, 0.9963008958821128, 0.9864287781169596, 0.9929969897476831, 0.9923959494514616, 0.14944135802473557, 0.8449184472936973, 0.3687588518562631, 0.23420549744295663, 0.1428194307936461, 0.02204287034757239, 0.11067357820343637, 0.03765657017710283, 0.08403844320011973, 0.3597090489672687, 0.6364083174036292, 0.23805927015082215, 0.050131850808787994, 0.39274417879611984, 0.27103369608387523, 0.04798717269932113, 0.9733948257945024, 0.9886290984805629, 0.8648627336336476, 0.13359668243121386, 0.9916168698178701, 0.03953974172358477, 0.960250870429916, 0.9974220251907842, 0.6235713837821104, 0.0553999369889065, 0.17135329347731545, 0.14945099280728266, 0.9826367294302601, 0.9945873739931848, 0.9630724120373608, 0.9773580210020483, 0.8041646956867445, 0.19483325168657467, 0.9910507610839913, 0.9897725894451858, 0.25527926452888716, 0.13274521755502133, 0.16980798484958567, 0.0669398960320193, 0.12329042997987735, 0.1248031959919004, 0.1266941535069292, 0.8108828677179178, 0.13191395934167086, 0.05431751267009976, 0.17246997021914526, 0.10940826304650625, 0.15423525971139423, 0.14739724327098758, 0.14283856564404984, 0.06610082559059753, 0.2074198320256681, 0.7938091960803847, 0.2032925989961961, 0.2357935035124051, 0.18886942321142897, 0.11848330275996476, 0.06100130439126898, 0.10909848669976953, 0.15954187302331888, 0.1266950168126356, 0.9924888918370675, 0.2379583432594822, 0.1438817889475939, 0.231702613305239, 0.10803164420981548, 0.17684467370649082, 0.04234647969026175, 0.059188829567070396, 0.0786458488026527, 0.9142579923308376, 0.9943652062710555, 0.9806530795123701, 0.9944926513131437, 0.9845774690066327, 0.30169483015606574, 0.13992199873820074, 0.18247362027228373, 0.033351270932119086, 0.25875986068023427, 0.051751972136046855, 0.03143453122337661, 0.5880258871203374, 0.4091793039408799, 0.9155521246817141, 0.07383484876465436, 0.9692938417924942, 0.028259295679081465, 0.9864844052401971, 0.9799085333471176, 0.33826329212644024, 0.12047733692174584, 0.10657610573846747, 0.10657610573846747, 0.32667893280704163, 0.19365898804700915, 0.10758832669278287, 0.1204989258959168, 0.5809769641410275, 0.9889494482658282, 0.42297470782385677, 0.3668985154987242, 0.20988517698835316, 0.10604380295126734, 0.8907679447906457, 0.19829813766983684, 0.05470293452961016, 0.10940586905922033, 0.4068530755639756, 0.02051360044860381, 0.20855493789413876, 0.9880965494763336, 0.9768183341855609, 0.9924893244189552, 0.1668174733096815, 0.6771658450452325, 0.15550781410224546, 0.3433357395535501, 0.6516372199689829, 0.98042119945073, 0.978776512093544, 0.9963531279000225, 0.9756594591030795, 0.9810068589752404, 0.10082223957537637, 0.564020064870946, 0.33315174816211324, 0.9864018022667328, 0.13063663097955694, 0.11053868775193279, 0.12058765936574486, 0.6381096974770666, 0.983740855120024, 0.8376397419423934, 0.0761490674493085, 0.08537925744316407, 0.9793917518762918, 0.9832815770430516, 0.9853065405956981, 0.9750726131490968, 0.9988119022055159, 0.9869722312562267, 0.059986633233208866, 0.08459653404683301, 0.04614356402554528, 0.38452970021287736, 0.2676326713481626, 0.15842623648770546, 0.992553590791641, 0.9967055116944171, 0.9809241442187581, 0.1286439753553814, 0.8700395175350796, 0.9848574518703572, 0.9952764746508612, 0.9896820916424319, 0.9973759701634475, 0.12729354127794495, 0.8671872499559999, 0.017303032293562046, 0.1519657618825884, 0.15948881940152843, 0.21892097380115458, 0.25127012113259667, 0.16249804240910443, 0.0383675933465941, 0.9838189452104233, 0.9174687128437633, 0.08108940643821141, 0.24432905660626855, 0.11920893487644554, 0.14679447352554037, 0.12906091296540798, 0.11920893487644554, 0.10443096774300188, 0.1359572976276817, 0.1900847583227401, 0.0740084100027062, 0.13048851237319248, 0.00934843073718394, 0.3770533730664189, 0.015580717895306566, 0.20371788648113334, 0.15267350271019098, 0.07387427550493111, 0.731355327498818, 0.039399613602629925, 0.992801822775656, 0.9766792408077797, 0.05431089455390296, 0.47080347748835155, 0.10404135221771772, 0.020284791941819178, 0.18092725715848396, 0.145919632355667, 0.023556532577596465, 0.9920612600137781, 0.6453542122648217, 0.35285554051889534, 0.9170858768353282, 0.07870513122094233, 0.9036497031745682, 0.09619496840245402, 0.9832511912457805, 0.9815195780564188, 0.9808807311696448, 0.919453031229118, 0.029344245677525044, 0.05068551526117962, 0.26518891593345784, 0.07287634330995788, 0.17004480105656838, 0.11538754357409997, 0.37450343089839466, 0.20103184081179026, 0.6170560669361895, 0.14798177170867893, 0.03350530680196504, 0.9955102799148886, 0.9834071187096862, 0.797902479774279, 0.2008836831431714, 0.038808114834222716, 0.24948073822000316, 0.10949432399655694, 0.09840629118677903, 0.19404057417111356, 0.23977870951144747, 0.07207221326355646, 0.9950203875544373, 0.9907612370944364, 0.9921372950469153, 0.9730281672250319, 0.1399247808498701, 0.8503121297799798, 0.0731118194388011, 0.44037119150347637, 0.4862786130115608, 0.9953093609230775, 0.34407738068184796, 0.09114632600843656, 0.5651072212523066, 0.9952566932947887, 0.8172144049180093, 0.1567348858682528, 0.025799981212881115, 0.9917868068413144, 0.13543700806936088, 0.06945487593300557, 0.2430920657655195, 0.5504298917690692, 0.9887190155441894, 0.6435300470854698, 0.1625879800940321, 0.025013535399081865, 0.16827287450291437, 0.5522733370476294, 0.06136370411640326, 0.03143018991327972, 0.1496675710156177, 0.20504457229139628, 0.9982721753372242, 0.9778927230689132, 0.9940179318483781, 0.9875234121024548, 0.11125914217165042, 0.13068534159844652, 0.26490271945631055, 0.08300285209631064, 0.3602676984605823, 0.049448507631844635, 0.9960677572007377, 0.05101215259939584, 0.02746808216890545, 0.6042978077159199, 0.3139209390732051, 0.9907175999178315, 0.9849666288038841, 0.9850728962553419, 0.9930992279440437, 0.9938012095005588, 0.9964368836806945, 0.986650690307935, 0.9923475681190391, 0.9774272505059405, 0.9937847634900631, 0.744756608320653, 0.18448099472162965, 0.06832629434134431, 0.9372523635840871, 0.054333470352700704, 0.9931593950322569, 0.003132994937010274, 0.9812885325805782, 0.981565499818951, 0.9798771044357484, 0.973558775860062, 0.6687265396927431, 0.03817399207216474, 0.17996310548306238, 0.023858745045102967, 0.08929987431167109, 0.1156872540139215, 0.1156872540139215, 0.13434648853229594, 0.21084935005763114, 0.42356462356709973, 0.4359578216912356, 0.28275065401268723, 0.05764230071074096, 0.05946258389108015, 0.04308003526802745, 0.029124530885427012, 0.09162092007707247, 0.9157983502162091, 0.07949638456737926, 0.966284487714476, 0.022213436499183354, 0.980725057932688, 0.983375158807924, 0.979359372755499, 0.6090249225976002, 0.11559699761079231, 0.20764645867123804, 0.004281370281881197, 0.06422055422821794, 0.18354708651617654, 0.08657881439442289, 0.05887359378820757, 0.23029964628916488, 0.3878730884870146, 0.05367886492454219, 0.36413883911102735, 0.07352803482049591, 0.10679071723929168, 0.16631341209397885, 0.2888601367948054, 0.9871426003628737, 0.9898050966278097, 0.9241698591496763, 0.07208010043507225, 0.00257428930125258, 0.8548042355499539, 0.14410492859845966, 0.9813421743958739, 0.9801452680897403, 0.973320342629978, 0.06490699078691327, 0.06896367771109534, 0.8113373848364158, 0.05273693001436702, 0.9991272411889939, 0.9808429000566166, 0.23552577549273956, 0.7589163876988275, 0.9878788264934327, 0.9725752466801288, 0.9975665109651485, 0.9754961259560511, 0.019509922519121023, 0.984285548538479, 0.983139900059554, 0.9987663332560117, 0.9874602337427646, 0.9896147674892364, 0.9935679207892557, 0.006286555099457022, 0.8843087506569544, 0.10896695505725504, 0.12649172740545184, 0.09527948298072997, 0.14620472388422356, 0.137990975351402, 0.07556648650195825, 0.16427497065643099, 0.25462620451746804, 0.9926401237159952, 0.9814252047998124, 0.9220265497524376, 0.04191029771601989, 0.035923112328017044, 0.9636719222261804, 0.9984844024574752, 0.9911876890300538, 0.9118224791046724, 0.08833280266326514, 0.9895690578382306, 0.2059384869964954, 0.144768639373774, 0.16719758350210517, 0.4832417962194991, 0.989204868367734, 0.9815284582521522, 0.11289336710488615, 0.06271853728049231, 0.12683081983388445, 0.11428711237778598, 0.30383646949216275, 0.17979314020407794, 0.1003496596487877, 0.11698375592611278, 0.8814589981409429, 0.9942970287243547, 0.14665817409696424, 0.09899426751545086, 0.7534563694231537, 0.9989510934530896, 0.9915775755980498, 0.13518366006313598, 0.7097142153314638, 0.15208161757102798, 0.6619174383814316, 0.3337398848982008, 0.9947640060593949, 0.07531172385922005, 0.9238238126730993, 0.9894729609275352, 0.36482102458461135, 0.624405215154431, 0.979755399525217, 0.9918975063059972, 0.9956824523865362, 0.17779193378282118, 0.19374762014794614, 0.12308672338810696, 0.11168980455587484, 0.39433339159523156, 0.11923337497166415, 0.052164601550103065, 0.16767193355390272, 0.033534386710780545, 0.5961668748583208, 0.02980834374291604, 0.14380447829999013, 0.07190223914999506, 0.7789409241249464, 0.745170791493225, 0.046112053929036195, 0.03320067882890606, 0.03873412530039041, 0.061790152264908506, 0.07562376844361936, 0.9862235269992333, 0.03451702550397764, 0.012005921914427006, 0.8434160144884971, 0.10955403746914642, 0.15547423222809914, 0.05182474407603304, 0.16440953293086344, 0.19300249517970927, 0.33596730642393835, 0.10007536787096036, 0.4248163292218039, 0.574857841244824, 0.9904267556388234, 0.055896020434989084, 0.27631617648994605, 0.532594156974896, 0.13499416255997365, 0.7822932320813517, 0.21656705294907477, 0.9874289173631915, 0.9945850465380045, 0.12392568161873906, 0.22096182854661964, 0.05027173876986584, 0.0409188571382629, 0.19173407344786042, 0.23966759180982553, 0.133278563250342, 0.9926828394269451, 0.9954971863063802, 0.12116721282637559, 0.24279689593071446, 0.25135259607303484, 0.2684639963576757, 0.1163112749077613, 0.999305276776968, 0.9771275335720904, 0.1861297737606326, 0.1009517417006821, 0.11672545134141367, 0.5426156116411662, 0.05047587085034105, 0.7648650432739287, 0.07620426630404455, 0.04798046396921324, 0.042335703502246975, 0.06773712560359516, 0.07992985469300257, 0.2829263110561837, 0.06216766476122422, 0.13321642448833762, 0.2613579375675957, 0.15224734227238584, 0.027912012749937404, 0.1252495942868896, 0.14770814222798703, 0.15202709375512116, 0.2090372539132916, 0.2124924151349989, 0.0630566922961582, 0.09069798206981661, 0.2469085097899848, 0.16667879250306278, 0.13620393864989086, 0.21829946331557848, 0.11754586486223458, 0.11381425010470332, 0.9812715791609723, 0.9879143462315422, 0.20057690459803657, 0.7911644570255887, 0.9933377371676358, 0.05630592700941795, 0.04379349878510285, 0.15327724574785997, 0.04066539172902407, 0.20332695864512038, 0.5036252360286828, 0.6036132270330804, 0.39532415573293295, 0.9933349939089541, 0.9710647506838864, 0.13871667285993453, 0.24258664529128646, 0.2714021860303067, 0.11392190524728922, 0.1269894179080077, 0.03082592730220767, 0.07538949611952964, 0.9837048246211869, 0.9640020019470517, 0.9778576854131921, 0.04456432571427941, 0.43424308079728074, 0.14302039415280368, 0.023145812580284652, 0.3278414349058229, 0.026945871362122432, 0.21779729473201923, 0.7794850548303845, 0.9921991085004614, 0.9883404182014786, 0.9930232642557739, 0.9951581740976304, 0.9798111835236846, 0.9958969194920263, 0.9749706710204056, 0.9889427250069824, 0.12075920813977827, 0.104594589727367, 0.19207370113571032, 0.22345207805392042, 0.16259704403072506, 0.12646436757945284, 0.07036363308931962, 0.9835055165785026, 0.9472446387672921, 0.04784063832158041, 0.9858008897026564, 0.6092330733730729, 0.09743945117612812, 0.2015010009758766, 0.09081735255250777, 0.9812687795787164, 0.02643592689667764, 0.9693173195448468, 0.976993056399552, 0.9792941856163045, 0.9841821811181848, 0.3000421619507986, 0.14850571652110234, 0.17376179075938505, 0.3101445916461117, 0.06768627895859766, 0.12412172641352796, 0.23913360134716397, 0.059214034619297744, 0.232301212737245, 0.0671851546642032, 0.2778504701367048, 0.9897389747144721], \"Term\": [\"acid\", \"acid\", \"add\", \"add\", \"add\", \"add\", \"allergy\", \"allergy\", \"alot\", \"alternative\", \"alternative\", \"alternative\", \"alternative\", \"aluminum\", \"amazon\", \"amazon\", \"amazon\", \"animal\", \"arrive\", \"arrive\", \"baby\", \"baby\", \"bacon\", \"bag\", \"bag\", \"bag\", \"bag\", \"bake\", \"bake\", \"bake\", \"baking\", \"bar\", \"basis\", \"basket\", \"bean\", \"bean\", \"beef\", \"berry\", \"beverage\", \"beverage\", \"bisquick\", \"bit\", \"bit\", \"bit\", \"bit\", \"bit\", \"bit\", \"bit\", \"bitter\", \"bitter\", \"bitterness\", \"blend\", \"blend\", \"blend\", \"blood\", \"blue\", \"blue\", \"blueberry\", \"bodied\", \"bold\", \"boost\", \"bottle\", \"bottle\", \"bottle\", \"bowl\", \"bowl\", \"box\", \"box\", \"box\", \"box\", \"box\", \"bpa\", \"brand\", \"brand\", \"brand\", \"brand\", \"brand\", \"brand\", \"brand\", \"breath\", \"brew\", \"brew\", \"brewer\", \"brewing\", \"brown\", \"brown\", \"brown\", \"butter\", \"butter\", \"buy\", \"buy\", \"buy\", \"buy\", \"buy\", \"buy\", \"cake\", \"cake\", \"calcium\", \"calorie\", \"can\", \"can\", \"can\", \"can\", \"candy\", \"car\", \"carb\", \"carbonate\", \"carbonated\", \"carbonation\", \"case\", \"case\", \"case\", \"case\", \"case\", \"cat\", \"cereal\", \"chef\", \"cherry\", \"chew\", \"chewy\", \"chicken\", \"chicken\", \"chili\", \"chip\", \"chocolate\", \"chocolate\", \"chocolate\", \"citrus\", \"coat\", \"coat\", \"cocoa\", \"cocoa\", \"coffee\", \"cold\", \"cold\", \"com\", \"com\", \"com\", \"come\", \"come\", \"come\", \"come\", \"come\", \"come\", \"come\", \"concentrate\", \"contain\", \"contain\", \"contain\", \"container\", \"container\", \"container\", \"cook\", \"cook\", \"cook\", \"cook\", \"cookie\", \"corn\", \"corn\", \"corn\", \"correct\", \"cow\", \"cracker\", \"cracker\", \"cream\", \"cream\", \"cream\", \"creamer\", \"creme\", \"cup\", \"dark\", \"date\", \"daughter\", \"daughter\", \"day\", \"day\", \"day\", \"day\", \"day\", \"day\", \"decaf\", \"dent\", \"describe\", \"digestive\", \"dish\", \"disposable\", \"disposakup\", \"dissolve\", \"dog\", \"donut\", \"drink\", \"drink\", \"drink\", \"drinkable\", \"earth\", \"easy\", \"easy\", \"easy\", \"easy\", \"easy\", \"eat\", \"eat\", \"eat\", \"eat\", \"eat\", \"energy\", \"energy\", \"espresso\", \"expiration\", \"extract\", \"extract\", \"fat\", \"fat\", \"favorite\", \"favorite\", \"favorite\", \"favorite\", \"favorite\", \"feed\", \"felidae\", \"fiber\", \"filler\", \"filter\", \"filter\", \"find\", \"find\", \"find\", \"find\", \"find\", \"find\", \"find\", \"fish\", \"fish\", \"flavor\", \"flavor\", \"flavor\", \"flavor\", \"flavor\", \"flavour\", \"flax\", \"flour\", \"flour\", \"fondant\", \"food\", \"food\", \"formula\", \"free\", \"free\", \"free\", \"free\", \"freezer\", \"french\", \"frost\", \"fructose\", \"fruit\", \"fruit\", \"fuel\", \"garlic\", \"get\", \"get\", \"get\", \"get\", \"get\", \"get\", \"get\", \"gift\", \"gift\", \"gift\", \"give\", \"give\", \"give\", \"give\", \"give\", \"give\", \"give\", \"gluten\", \"gluten\", \"go\", \"go\", \"go\", \"go\", \"go\", \"go\", \"go\", \"goat\", \"good\", \"good\", \"good\", \"good\", \"good\", \"good\", \"good\", \"gram\", \"gram\", \"grape\", \"grapefruit\", \"grass\", \"gravy\", \"great\", \"great\", \"great\", \"great\", \"great\", \"great\", \"great\", \"green\", \"green\", \"grind\", \"grind\", \"grocery\", \"grocery\", \"grove\", \"gummy\", \"happy\", \"happy\", \"happy\", \"happy\", \"happy\", \"hard\", \"hard\", \"hard\", \"hard\", \"hazelnut\", \"healthy\", \"healthy\", \"healthy\", \"heat\", \"heat\", \"high\", \"high\", \"high\", \"high\", \"high\", \"high\", \"hole\", \"holiday\", \"homemade\", \"hot\", \"hot\", \"hot\", \"house\", \"house\", \"human\", \"hungry\", \"ice\", \"iced\", \"icicle\", \"ingredient\", \"ingredient\", \"ingredient\", \"internet\", \"issue\", \"issue\", \"issue\", \"issue\", \"italian\", \"item\", \"item\", \"item\", \"izze\", \"jelly\", \"jerky\", \"jet\", \"juice\", \"kcup\", \"keep\", \"keep\", \"keep\", \"keep\", \"keep\", \"keep\", \"kettle\", \"keurig\", \"kibble\", \"kid\", \"kid\", \"lbs\", \"lemon\", \"licorice\", \"lid\", \"lime\", \"lime\", \"little\", \"little\", \"little\", \"little\", \"little\", \"little\", \"little\", \"liver\", \"local\", \"local\", \"look\", \"look\", \"look\", \"look\", \"look\", \"look\", \"look\", \"love\", \"love\", \"love\", \"love\", \"love\", \"love\", \"love\", \"low\", \"low\", \"low\", \"low\", \"machine\", \"major\", \"make\", \"make\", \"make\", \"make\", \"make\", \"make\", \"make\", \"maker\", \"meat\", \"meat\", \"medium\", \"medium\", \"milk\", \"milk\", \"mini\", \"mint\", \"mistake\", \"mix\", \"mix\", \"mix\", \"month\", \"month\", \"month\", \"month\", \"month\", \"morning\", \"morning\", \"morning\", \"morning\", \"mountain\", \"muffin\", \"natural\", \"natural\", \"need\", \"need\", \"need\", \"need\", \"need\", \"need\", \"need\", \"newman\", \"noodle\", \"nutrient\", \"oat\", \"oatmeal\", \"oatmeal\", \"old\", \"old\", \"old\", \"olive\", \"open\", \"open\", \"open\", \"orange\", \"order\", \"order\", \"order\", \"oreo\", \"organic\", \"organic\", \"organic\", \"organic\", \"own\", \"pack\", \"pack\", \"pack\", \"pack\", \"package\", \"package\", \"package\", \"package\", \"package\", \"pancake\", \"parent\", \"peanut\", \"peppermint\", \"perfect\", \"perfect\", \"perfect\", \"perfect\", \"perfect\", \"perfect\", \"pet\", \"piece\", \"piece\", \"piece\", \"piece\", \"pill\", \"pineapple\", \"pizza\", \"plant\", \"plastic\", \"pod\", \"popchip\", \"popcorn\", \"pork\", \"post\", \"potato\", \"potato\", \"potato\", \"pouch\", \"pouch\", \"powder\", \"powder\", \"powdered\", \"preserve\", \"pressure\", \"pretzel\", \"price\", \"price\", \"price\", \"price\", \"price\", \"problem\", \"problem\", \"problem\", \"problem\", \"problem\", \"product\", \"product\", \"product\", \"product\", \"product\", \"product\", \"product\", \"protein\", \"protein\", \"puck\", \"puck\", \"pumpkin\", \"punch\", \"puppy\", \"purchase\", \"purchase\", \"purchase\", \"purchase\", \"purchase\", \"put\", \"put\", \"put\", \"put\", \"put\", \"put\", \"quality\", \"quality\", \"quality\", \"quality\", \"quality\", \"raisin\", \"raspberry\", \"receive\", \"receive\", \"receive\", \"recipe\", \"recipe\", \"record\", \"refrigerator\", \"reorder\", \"rich\", \"rich\", \"rich\", \"rich\", \"roast\", \"rodeo\", \"salad\", \"salad\", \"salmon\", \"salsa\", \"salt\", \"salty\", \"salty\", \"sandwich\", \"sardine\", \"sauce\", \"science\", \"sea\", \"seal\", \"seed\", \"seed\", \"seed\", \"seem\", \"seem\", \"seem\", \"seem\", \"seem\", \"seem\", \"seem\", \"seller\", \"senseo\", \"service\", \"service\", \"service\", \"shiny\", \"ship\", \"shipment\", \"shipping\", \"shipping\", \"sip\", \"size\", \"size\", \"size\", \"size\", \"skin\", \"sleep\", \"small\", \"small\", \"small\", \"small\", \"small\", \"small\", \"small\", \"smooth\", \"smooth\", \"smoothie\", \"snack\", \"snack\", \"snack\", \"soda\", \"sodium\", \"soft\", \"soft\", \"soft\", \"son\", \"son\", \"soup\", \"soy\", \"soy\", \"sparkle\", \"spice\", \"spice\", \"square\", \"stale\", \"starbuck\", \"start\", \"start\", \"start\", \"start\", \"start\", \"stick\", \"stick\", \"stick\", \"stick\", \"stick\", \"stick\", \"stomach\", \"stomach\", \"stomach\", \"store\", \"store\", \"store\", \"store\", \"store\", \"store\", \"strength\", \"strong\", \"strong\", \"strong\", \"strong\", \"stuff\", \"stuff\", \"stuff\", \"stuff\", \"stuff\", \"stuff\", \"sugar\", \"sugar\", \"supplement\", \"sweet\", \"sweet\", \"sweet\", \"sweet\", \"switch\", \"switch\", \"table\", \"tablet\", \"take\", \"take\", \"take\", \"take\", \"take\", \"take\", \"take\", \"tangerine\", \"tart\", \"taste\", \"taste\", \"taste\", \"taste\", \"taste\", \"tea\", \"teaspoon\", \"texture\", \"texture\", \"texture\", \"texture\", \"texture\", \"thank\", \"thank\", \"thank\", \"thank\", \"thank\", \"thing\", \"thing\", \"thing\", \"thing\", \"thing\", \"thing\", \"thing\", \"think\", \"think\", \"think\", \"think\", \"think\", \"think\", \"think\", \"time\", \"time\", \"time\", \"time\", \"time\", \"time\", \"toast\", \"tofu\", \"tomato\", \"tomato\", \"tooth\", \"top\", \"top\", \"top\", \"top\", \"top\", \"top\", \"treat\", \"treat\", \"truffle\", \"trust\", \"try\", \"try\", \"try\", \"try\", \"try\", \"try\", \"try\", \"tub\", \"tummy\", \"unable\", \"use\", \"use\", \"use\", \"use\", \"use\", \"use\", \"vanilla\", \"vanilla\", \"vendor\", \"vet\", \"vinegar\", \"vitamin\", \"vomit\", \"waffle\", \"walk\", \"walnut\", \"want\", \"want\", \"want\", \"want\", \"want\", \"want\", \"want\", \"warehouse\", \"warm\", \"warm\", \"wash\", \"water\", \"water\", \"water\", \"water\", \"watery\", \"weak\", \"weak\", \"wellness\", \"willing\", \"winter\", \"work\", \"work\", \"work\", \"work\", \"work\", \"year\", \"year\", \"year\", \"year\", \"year\", \"year\", \"yuban\"]}, \"R\": 30, \"lambda.step\": 0.01, \"plot.opts\": {\"xlab\": \"PC1\", \"ylab\": \"PC2\"}, \"topic.order\": [5, 3, 4, 6, 7, 1, 2]};\n",
       "\n",
       "function LDAvis_load_lib(url, callback){\n",
       "  var s = document.createElement('script');\n",
       "  s.src = url;\n",
       "  s.async = true;\n",
       "  s.onreadystatechange = s.onload = callback;\n",
       "  s.onerror = function(){console.warn(\"failed to load library \" + url);};\n",
       "  document.getElementsByTagName(\"head\")[0].appendChild(s);\n",
       "}\n",
       "\n",
       "if(typeof(LDAvis) !== \"undefined\"){\n",
       "   // already loaded: just create the visualization\n",
       "   !function(LDAvis){\n",
       "       new LDAvis(\"#\" + \"ldavis_el38565927626170721825040570\", ldavis_el38565927626170721825040570_data);\n",
       "   }(LDAvis);\n",
       "}else if(typeof define === \"function\" && define.amd){\n",
       "   // require.js is available: use it to load d3/LDAvis\n",
       "   require.config({paths: {d3: \"https://d3js.org/d3.v5\"}});\n",
       "   require([\"d3\"], function(d3){\n",
       "      window.d3 = d3;\n",
       "      LDAvis_load_lib(\"https://cdn.jsdelivr.net/gh/bmabey/pyLDAvis@3.3.1/pyLDAvis/js/ldavis.v3.0.0.js\", function(){\n",
       "        new LDAvis(\"#\" + \"ldavis_el38565927626170721825040570\", ldavis_el38565927626170721825040570_data);\n",
       "      });\n",
       "    });\n",
       "}else{\n",
       "    // require.js not available: dynamically load d3 & LDAvis\n",
       "    LDAvis_load_lib(\"https://d3js.org/d3.v5.js\", function(){\n",
       "         LDAvis_load_lib(\"https://cdn.jsdelivr.net/gh/bmabey/pyLDAvis@3.3.1/pyLDAvis/js/ldavis.v3.0.0.js\", function(){\n",
       "                 new LDAvis(\"#\" + \"ldavis_el38565927626170721825040570\", ldavis_el38565927626170721825040570_data);\n",
       "            })\n",
       "         });\n",
       "}\n",
       "</script>"
      ],
      "text/plain": [
       "PreparedData(topic_coordinates=              x         y  topics  cluster       Freq\n",
       "topic                                                \n",
       "4     -0.003895 -0.160744       1        1  18.632003\n",
       "2     -0.064474  0.056664       2        1  18.048067\n",
       "3     -0.104872 -0.073205       3        1  16.102147\n",
       "5     -0.201020  0.036719       4        1  13.071440\n",
       "6      0.057282  0.013373       5        1  12.719592\n",
       "0      0.103838  0.230046       6        1  11.330099\n",
       "1      0.213140 -0.102854       7        1  10.096652, topic_info=       Term         Freq        Total Category  logprob  loglift\n",
       "322  coffee  3974.000000  3974.000000  Default  30.0000  30.0000\n",
       "5      food  1947.000000  1947.000000  Default  29.0000  29.0000\n",
       "417     cup  1898.000000  1898.000000  Default  28.0000  28.0000\n",
       "781     tea  1576.000000  1576.000000  Default  27.0000  27.0000\n",
       "3       dog  1011.000000  1011.000000  Default  26.0000  26.0000\n",
       "..      ...          ...          ...      ...      ...      ...\n",
       "195     try   224.959355  2984.500648   Topic7  -4.8944  -0.2923\n",
       "218    time   182.879809  1607.883018   Topic7  -5.1015   0.1191\n",
       "4      find   182.505086  2177.574846   Topic7  -5.1035  -0.1862\n",
       "1       buy   151.753875  2483.901362   Topic7  -5.2880  -0.5024\n",
       "7      look   138.019667  1015.024588   Topic7  -5.3829   0.2977\n",
       "\n",
       "[474 rows x 6 columns], token_table=      Topic      Freq   Term\n",
       "term                        \n",
       "2449      2  0.050104   acid\n",
       "2449      4  0.943617   acid\n",
       "345       2  0.438178    add\n",
       "345       3  0.049621    add\n",
       "345       4  0.343142    add\n",
       "...     ...       ...    ...\n",
       "196       3  0.059214   year\n",
       "196       5  0.232301   year\n",
       "196       6  0.067185   year\n",
       "196       7  0.277850   year\n",
       "5300      3  0.989739  yuban\n",
       "\n",
       "[807 rows x 3 columns], R=30, lambda_step=0.01, plot_opts={'xlab': 'PC1', 'ylab': 'PC2'}, topic_order=[5, 3, 4, 6, 7, 1, 2])"
      ]
     },
     "execution_count": 181,
     "metadata": {},
     "output_type": "execute_result"
    }
   ],
   "source": [
    "\n",
    "# Visualize the topics\n",
    "pyLDAvis.enable_notebook()\n",
    "vis = pyLDAvis.gensim_models.prepare(lda_model, doc_term_matrix, dictionary)\n",
    "vis"
   ]
  },
  {
   "cell_type": "code",
   "execution_count": 182,
   "id": "c36aef06",
   "metadata": {},
   "outputs": [
    {
     "data": {
      "text/plain": [
       "[(0,\n",
       "  '0.028*\"use\" + 0.013*\"make\" + 0.011*\"sauce\" + 0.010*\"get\" + 0.009*\"work\" + 0.007*\"open\" + 0.007*\"soup\" + 0.007*\"bag\" + 0.007*\"put\" + 0.007*\"chicken\"'),\n",
       " (1,\n",
       "  '0.062*\"food\" + 0.034*\"dog\" + 0.024*\"cat\" + 0.017*\"love\" + 0.014*\"eat\" + 0.011*\"get\" + 0.011*\"baby\" + 0.011*\"organic\" + 0.010*\"product\" + 0.010*\"old\"'),\n",
       " (2,\n",
       "  '0.029*\"tea\" + 0.027*\"make\" + 0.023*\"use\" + 0.020*\"taste\" + 0.019*\"mix\" + 0.017*\"product\" + 0.013*\"try\" + 0.012*\"water\" + 0.012*\"milk\" + 0.011*\"good\"'),\n",
       " (3,\n",
       "  '0.083*\"coffee\" + 0.040*\"cup\" + 0.031*\"flavor\" + 0.023*\"taste\" + 0.020*\"good\" + 0.017*\"try\" + 0.012*\"strong\" + 0.012*\"chocolate\" + 0.011*\"roast\" + 0.010*\"hot\"'),\n",
       " (4,\n",
       "  '0.026*\"product\" + 0.023*\"order\" + 0.021*\"amazon\" + 0.019*\"buy\" + 0.018*\"good\" + 0.018*\"price\" + 0.016*\"flavor\" + 0.016*\"chip\" + 0.015*\"store\" + 0.014*\"find\"'),\n",
       " (5,\n",
       "  '0.030*\"taste\" + 0.026*\"flavor\" + 0.024*\"drink\" + 0.018*\"juice\" + 0.016*\"sugar\" + 0.014*\"soda\" + 0.014*\"calorie\" + 0.013*\"sweet\" + 0.012*\"good\" + 0.011*\"natural\"'),\n",
       " (6,\n",
       "  '0.026*\"eat\" + 0.026*\"love\" + 0.019*\"good\" + 0.018*\"great\" + 0.015*\"make\" + 0.013*\"taste\" + 0.011*\"treat\" + 0.011*\"seed\" + 0.011*\"snack\" + 0.011*\"buy\"')]"
      ]
     },
     "execution_count": 182,
     "metadata": {},
     "output_type": "execute_result"
    }
   ],
   "source": [
    "# Print the Keyword in the 10 topics\n",
    "lda_model.print_topics()"
   ]
  },
  {
   "cell_type": "code",
   "execution_count": 185,
   "id": "fe473a9c",
   "metadata": {},
   "outputs": [],
   "source": [
    "lda_model.save('topic_modelling.model')"
   ]
  },
  {
   "cell_type": "code",
   "execution_count": null,
   "id": "09ad96bf",
   "metadata": {},
   "outputs": [],
   "source": []
  }
 ],
 "metadata": {
  "kernelspec": {
   "display_name": "Python 3 (ipykernel)",
   "language": "python",
   "name": "python3"
  },
  "language_info": {
   "codemirror_mode": {
    "name": "ipython",
    "version": 3
   },
   "file_extension": ".py",
   "mimetype": "text/x-python",
   "name": "python",
   "nbconvert_exporter": "python",
   "pygments_lexer": "ipython3",
   "version": "3.9.12"
  }
 },
 "nbformat": 4,
 "nbformat_minor": 5
}
